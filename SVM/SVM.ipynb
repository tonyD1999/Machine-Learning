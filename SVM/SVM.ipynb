{
  "nbformat": 4,
  "nbformat_minor": 0,
  "metadata": {
    "colab": {
      "name": "SVM.ipynb",
      "provenance": [],
      "collapsed_sections": []
    },
    "kernelspec": {
      "name": "python3",
      "display_name": "Python 3"
    }
  },
  "cells": [
    {
      "cell_type": "code",
      "metadata": {
        "id": "-T5FZ5eYx6v3"
      },
      "source": [
        "import numpy as np\n",
        "import pandas as pd\n",
        "from matplotlib import pyplot as plt\n",
        "from cvxopt import matrix as cvxopt_matrix\n",
        "from cvxopt import solvers as cvxopt_solvers"
      ],
      "execution_count": null,
      "outputs": []
    },
    {
      "cell_type": "markdown",
      "metadata": {
        "id": "PjZaOQwTxxoZ"
      },
      "source": [
        "#Hard Margin"
      ]
    },
    {
      "cell_type": "markdown",
      "metadata": {
        "id": "5fkStpKox1ow"
      },
      "source": [
        "### Data"
      ]
    },
    {
      "cell_type": "code",
      "metadata": {
        "id": "kGwJ1MoDxkck"
      },
      "source": [
        "X = np.array([[-1, 2], [1, 1], [-1, 0], [0, -1]])\n",
        "y = np.array([1, 1, -1, -1])\n",
        "y = y.reshape(y.shape[0], 1)"
      ],
      "execution_count": null,
      "outputs": []
    },
    {
      "cell_type": "markdown",
      "metadata": {
        "id": "Lz10Xwc9yzlp"
      },
      "source": [
        "### CVXOPT"
      ]
    },
    {
      "cell_type": "markdown",
      "metadata": {
        "id": "oW4F5eMdJIAG"
      },
      "source": [
        "#### Primal"
      ]
    },
    {
      "cell_type": "code",
      "metadata": {
        "colab": {
          "base_uri": "https://localhost:8080/"
        },
        "id": "ivja5VioJDf0",
        "outputId": "89e9680b-d424-4bd8-88a7-04e439bc1432"
      },
      "source": [
        "N, M = X.shape\n",
        "M += 1\n",
        "K = np.eye(M)\n",
        "K[M-1, M-1] = 0\n",
        "K = K * 1.\n",
        "K"
      ],
      "execution_count": null,
      "outputs": [
        {
          "output_type": "execute_result",
          "data": {
            "text/plain": [
              "array([[1., 0., 0.],\n",
              "       [0., 1., 0.],\n",
              "       [0., 0., 0.]])"
            ]
          },
          "metadata": {
            "tags": []
          },
          "execution_count": 26
        }
      ]
    },
    {
      "cell_type": "code",
      "metadata": {
        "colab": {
          "base_uri": "https://localhost:8080/"
        },
        "id": "tfgDaOfGKMrt",
        "outputId": "5fc216fe-ef98-4840-c08a-a7719fbcbe71"
      },
      "source": [
        "p = np.zeros((M, 1))\n",
        "p"
      ],
      "execution_count": null,
      "outputs": [
        {
          "output_type": "execute_result",
          "data": {
            "text/plain": [
              "array([[0.],\n",
              "       [0.],\n",
              "       [0.]])"
            ]
          },
          "metadata": {
            "tags": []
          },
          "execution_count": 27
        }
      ]
    },
    {
      "cell_type": "code",
      "metadata": {
        "colab": {
          "base_uri": "https://localhost:8080/"
        },
        "id": "7nPAcmP8KSsL",
        "outputId": "32c0d1fe-12cf-4f82-8568-3f3d0975c89e"
      },
      "source": [
        "G = np.concatenate((X, np.ones((N, 1))), axis = 1) * -np.repeat(y, M, axis=1)\n",
        "G"
      ],
      "execution_count": null,
      "outputs": [
        {
          "output_type": "execute_result",
          "data": {
            "text/plain": [
              "array([[ 1., -2., -1.],\n",
              "       [-1., -1., -1.],\n",
              "       [-1.,  0.,  1.],\n",
              "       [ 0., -1.,  1.]])"
            ]
          },
          "metadata": {
            "tags": []
          },
          "execution_count": 29
        }
      ]
    },
    {
      "cell_type": "code",
      "metadata": {
        "colab": {
          "base_uri": "https://localhost:8080/"
        },
        "id": "B0lLzWqRMIxA",
        "outputId": "dc0ad691-ebab-40f2-9340-b4c8e4b18538"
      },
      "source": [
        "h = -np.ones((N, 1))\n",
        "h"
      ],
      "execution_count": null,
      "outputs": [
        {
          "output_type": "execute_result",
          "data": {
            "text/plain": [
              "array([[-1.],\n",
              "       [-1.],\n",
              "       [-1.],\n",
              "       [-1.]])"
            ]
          },
          "metadata": {
            "tags": []
          },
          "execution_count": 30
        }
      ]
    },
    {
      "cell_type": "code",
      "metadata": {
        "colab": {
          "base_uri": "https://localhost:8080/"
        },
        "id": "DflDsWlLMTZH",
        "outputId": "c7e2f795-8596-4873-fa93-e60acb76d0d4"
      },
      "source": [
        "K = cvxopt_matrix(K)\n",
        "p = cvxopt_matrix(p)\n",
        "G = cvxopt_matrix(G)\n",
        "h = cvxopt_matrix(h)\n",
        "\n",
        "\n",
        "solution = cvxopt_solvers.qp(K, p, G, h)\n",
        "wb = np.array(solution['x'])\n",
        "wb"
      ],
      "execution_count": null,
      "outputs": [
        {
          "output_type": "stream",
          "text": [
            "     pcost       dcost       gap    pres   dres\n",
            " 0:  3.0728e-01  5.4665e-01  9e-01  1e+00  3e-16\n",
            " 1:  4.6696e-01  5.9739e-01  4e-02  2e-01  2e-16\n",
            " 2:  6.2209e-01  6.2429e-01  2e-03  4e-03  4e-15\n",
            " 3:  6.2497e-01  6.2499e-01  2e-05  4e-05  6e-16\n",
            " 4:  6.2500e-01  6.2500e-01  2e-07  4e-07  5e-16\n",
            " 5:  6.2500e-01  6.2500e-01  2e-09  4e-09  2e-16\n",
            "Optimal solution found.\n"
          ],
          "name": "stdout"
        },
        {
          "output_type": "execute_result",
          "data": {
            "text/plain": [
              "array([[ 0.5],\n",
              "       [ 1. ],\n",
              "       [-0.5]])"
            ]
          },
          "metadata": {
            "tags": []
          },
          "execution_count": 31
        }
      ]
    },
    {
      "cell_type": "markdown",
      "metadata": {
        "id": "SttuQ0KEJEqS"
      },
      "source": [
        "#### Dual\n"
      ]
    },
    {
      "cell_type": "code",
      "metadata": {
        "colab": {
          "base_uri": "https://localhost:8080/"
        },
        "id": "-nxgMQQPy3H_",
        "outputId": "775f0071-6b03-4c30-bae1-213d399f3be5"
      },
      "source": [
        "N, M = X.shape\n",
        "KGram = (X @ X.T)\n",
        "KGram "
      ],
      "execution_count": null,
      "outputs": [
        {
          "output_type": "execute_result",
          "data": {
            "text/plain": [
              "array([[ 5,  1,  1, -2],\n",
              "       [ 1,  2, -1, -1],\n",
              "       [ 1, -1,  1,  0],\n",
              "       [-2, -1,  0,  1]])"
            ]
          },
          "metadata": {
            "tags": []
          },
          "execution_count": 3
        }
      ]
    },
    {
      "cell_type": "code",
      "metadata": {
        "colab": {
          "base_uri": "https://localhost:8080/"
        },
        "id": "BxhszOqTzO-a",
        "outputId": "ec689ef1-f206-4122-f5b2-1d9bc53b1301"
      },
      "source": [
        "Y = y @ y.T\n",
        "Y"
      ],
      "execution_count": null,
      "outputs": [
        {
          "output_type": "execute_result",
          "data": {
            "text/plain": [
              "array([[ 1,  1, -1, -1],\n",
              "       [ 1,  1, -1, -1],\n",
              "       [-1, -1,  1,  1],\n",
              "       [-1, -1,  1,  1]])"
            ]
          },
          "metadata": {
            "tags": []
          },
          "execution_count": 4
        }
      ]
    },
    {
      "cell_type": "code",
      "metadata": {
        "colab": {
          "base_uri": "https://localhost:8080/"
        },
        "id": "8JECgjV1zqhz",
        "outputId": "495e13e6-8718-471a-a007-b25b289732bc"
      },
      "source": [
        "K = KGram * Y * 1.\n",
        "K"
      ],
      "execution_count": null,
      "outputs": [
        {
          "output_type": "execute_result",
          "data": {
            "text/plain": [
              "array([[ 5.,  1., -1.,  2.],\n",
              "       [ 1.,  2.,  1.,  1.],\n",
              "       [-1.,  1.,  1.,  0.],\n",
              "       [ 2.,  1.,  0.,  1.]])"
            ]
          },
          "metadata": {
            "tags": []
          },
          "execution_count": 5
        }
      ]
    },
    {
      "cell_type": "code",
      "metadata": {
        "colab": {
          "base_uri": "https://localhost:8080/"
        },
        "id": "B0N8flwdz1kY",
        "outputId": "f9101cfe-843e-498b-a3ef-73353ab01134"
      },
      "source": [
        "p = -np.ones((N, 1))\n",
        "p"
      ],
      "execution_count": null,
      "outputs": [
        {
          "output_type": "execute_result",
          "data": {
            "text/plain": [
              "array([[-1.],\n",
              "       [-1.],\n",
              "       [-1.],\n",
              "       [-1.]])"
            ]
          },
          "metadata": {
            "tags": []
          },
          "execution_count": 6
        }
      ]
    },
    {
      "cell_type": "code",
      "metadata": {
        "colab": {
          "base_uri": "https://localhost:8080/"
        },
        "id": "dS3l4YA60BVi",
        "outputId": "47304543-3b3e-4454-b4cf-ac7704f3822c"
      },
      "source": [
        "G = -np.eye(N)\n",
        "G"
      ],
      "execution_count": null,
      "outputs": [
        {
          "output_type": "execute_result",
          "data": {
            "text/plain": [
              "array([[-1., -0., -0., -0.],\n",
              "       [-0., -1., -0., -0.],\n",
              "       [-0., -0., -1., -0.],\n",
              "       [-0., -0., -0., -1.]])"
            ]
          },
          "metadata": {
            "tags": []
          },
          "execution_count": 7
        }
      ]
    },
    {
      "cell_type": "code",
      "metadata": {
        "colab": {
          "base_uri": "https://localhost:8080/"
        },
        "id": "jYFTH_vr0kht",
        "outputId": "1beaa6af-2bf4-413e-e65e-1fafb009d343"
      },
      "source": [
        "h = np.zeros((N, 1))\n",
        "h"
      ],
      "execution_count": null,
      "outputs": [
        {
          "output_type": "execute_result",
          "data": {
            "text/plain": [
              "array([[0.],\n",
              "       [0.],\n",
              "       [0.],\n",
              "       [0.]])"
            ]
          },
          "metadata": {
            "tags": []
          },
          "execution_count": 8
        }
      ]
    },
    {
      "cell_type": "code",
      "metadata": {
        "colab": {
          "base_uri": "https://localhost:8080/"
        },
        "id": "d9F16W760rPx",
        "outputId": "ed76513d-405a-465d-a697-21f6b7aaef6e"
      },
      "source": [
        "A = y.T * 1.\n",
        "A"
      ],
      "execution_count": null,
      "outputs": [
        {
          "output_type": "execute_result",
          "data": {
            "text/plain": [
              "array([[ 1.,  1., -1., -1.]])"
            ]
          },
          "metadata": {
            "tags": []
          },
          "execution_count": 9
        }
      ]
    },
    {
      "cell_type": "code",
      "metadata": {
        "colab": {
          "base_uri": "https://localhost:8080/"
        },
        "id": "acafu5p801Vq",
        "outputId": "fb073b48-120a-4d59-a90a-863aa9372ad4"
      },
      "source": [
        "b = np.zeros((1, 1))\n",
        "b"
      ],
      "execution_count": null,
      "outputs": [
        {
          "output_type": "execute_result",
          "data": {
            "text/plain": [
              "array([[0.]])"
            ]
          },
          "metadata": {
            "tags": []
          },
          "execution_count": 10
        }
      ]
    },
    {
      "cell_type": "code",
      "metadata": {
        "colab": {
          "base_uri": "https://localhost:8080/"
        },
        "id": "2MjMoHZb1CC5",
        "outputId": "8fdbbba8-ddcf-45a1-f204-b8b9c0025c24"
      },
      "source": [
        "#Solving\n",
        "K = cvxopt_matrix(K)\n",
        "p = cvxopt_matrix(p)\n",
        "G = cvxopt_matrix(G)\n",
        "h = cvxopt_matrix(h)\n",
        "A = cvxopt_matrix(A)\n",
        "b = cvxopt_matrix(b)\n",
        "\n",
        "solution = cvxopt_solvers.qp(K, p, G, h, A, b)\n",
        "alpha = np.array(solution['x'])\n",
        "alpha"
      ],
      "execution_count": null,
      "outputs": [
        {
          "output_type": "stream",
          "text": [
            "     pcost       dcost       gap    pres   dres\n",
            " 0: -5.4665e-01 -1.4874e+00  9e-01  5e-17  1e+00\n",
            " 1: -5.9739e-01 -6.3518e-01  4e-02  6e-17  2e-01\n",
            " 2: -6.2429e-01 -6.2646e-01  2e-03  2e-16  4e-03\n",
            " 3: -6.2499e-01 -6.2501e-01  2e-05  2e-16  4e-05\n",
            " 4: -6.2500e-01 -6.2500e-01  2e-07  2e-16  4e-07\n",
            " 5: -6.2500e-01 -6.2500e-01  2e-09  3e-18  4e-09\n",
            "Optimal solution found.\n"
          ],
          "name": "stdout"
        },
        {
          "output_type": "execute_result",
          "data": {
            "text/plain": [
              "array([[3.74999998e-01],\n",
              "       [2.50000000e-01],\n",
              "       [6.24999997e-01],\n",
              "       [1.40673228e-09]])"
            ]
          },
          "metadata": {
            "tags": []
          },
          "execution_count": 11
        }
      ]
    },
    {
      "cell_type": "code",
      "metadata": {
        "colab": {
          "base_uri": "https://localhost:8080/"
        },
        "id": "Cz7NjLc81Frv",
        "outputId": "905f81db-f283-4ba8-b076-e6438f4d2766"
      },
      "source": [
        "S_filter = (alpha > 1e-4)\n",
        "alpha_S  = alpha[S_filter].reshape(-1, 1)\n",
        "alpha_S"
      ],
      "execution_count": null,
      "outputs": [
        {
          "output_type": "execute_result",
          "data": {
            "text/plain": [
              "array([[0.375],\n",
              "       [0.25 ],\n",
              "       [0.625]])"
            ]
          },
          "metadata": {
            "tags": []
          },
          "execution_count": 12
        }
      ]
    },
    {
      "cell_type": "code",
      "metadata": {
        "colab": {
          "base_uri": "https://localhost:8080/"
        },
        "id": "UExM72Lq3u1t",
        "outputId": "bd736ad6-ce70-4276-97c6-ab53b2176ea1"
      },
      "source": [
        "y_S = y[S_filter].reshape(-1, 1)\n",
        "y_S"
      ],
      "execution_count": null,
      "outputs": [
        {
          "output_type": "execute_result",
          "data": {
            "text/plain": [
              "array([[ 1],\n",
              "       [ 1],\n",
              "       [-1]])"
            ]
          },
          "metadata": {
            "tags": []
          },
          "execution_count": 13
        }
      ]
    },
    {
      "cell_type": "code",
      "metadata": {
        "colab": {
          "base_uri": "https://localhost:8080/"
        },
        "id": "aC9y58B2456_",
        "outputId": "2cf32d05-78b0-4bbc-a820-303d63eed964"
      },
      "source": [
        "S_filter"
      ],
      "execution_count": null,
      "outputs": [
        {
          "output_type": "execute_result",
          "data": {
            "text/plain": [
              "array([[ True],\n",
              "       [ True],\n",
              "       [ True],\n",
              "       [False]])"
            ]
          },
          "metadata": {
            "tags": []
          },
          "execution_count": 14
        }
      ]
    },
    {
      "cell_type": "code",
      "metadata": {
        "colab": {
          "base_uri": "https://localhost:8080/"
        },
        "id": "CxpWyqR839MH",
        "outputId": "afac547f-4159-4d9d-c44b-2d97938bbd77"
      },
      "source": [
        "X_S = X[S_filter.flatten(), :]\n",
        "X_S"
      ],
      "execution_count": null,
      "outputs": [
        {
          "output_type": "execute_result",
          "data": {
            "text/plain": [
              "array([[-1,  2],\n",
              "       [ 1,  1],\n",
              "       [-1,  0]])"
            ]
          },
          "metadata": {
            "tags": []
          },
          "execution_count": 15
        }
      ]
    },
    {
      "cell_type": "code",
      "metadata": {
        "colab": {
          "base_uri": "https://localhost:8080/"
        },
        "id": "eQnN43Tw5H4A",
        "outputId": "5aabde76-5107-4def-bc35-63fcffde9605"
      },
      "source": [
        "w = (y_S * alpha_S).T @ X_S\n",
        "w"
      ],
      "execution_count": null,
      "outputs": [
        {
          "output_type": "execute_result",
          "data": {
            "text/plain": [
              "array([[0.5, 1. ]])"
            ]
          },
          "metadata": {
            "tags": []
          },
          "execution_count": 16
        }
      ]
    },
    {
      "cell_type": "code",
      "metadata": {
        "colab": {
          "base_uri": "https://localhost:8080/"
        },
        "id": "cToksT9v5r9Z",
        "outputId": "06384b27-e632-4ed8-acba-7a945ac43b7b"
      },
      "source": [
        "N_S = X_S.shape[0]\n",
        "K_SS = X_S @ X_S.T\n",
        "K_SS"
      ],
      "execution_count": null,
      "outputs": [
        {
          "output_type": "execute_result",
          "data": {
            "text/plain": [
              "array([[ 5,  1,  1],\n",
              "       [ 1,  2, -1],\n",
              "       [ 1, -1,  1]])"
            ]
          },
          "metadata": {
            "tags": []
          },
          "execution_count": 17
        }
      ]
    },
    {
      "cell_type": "code",
      "metadata": {
        "colab": {
          "base_uri": "https://localhost:8080/"
        },
        "id": "RxvTeHin6I-w",
        "outputId": "dfe5cb51-7bc8-4585-f90c-034c66ba8412"
      },
      "source": [
        "one_vec = np.ones((N_S, 1))\n",
        "one_vec"
      ],
      "execution_count": null,
      "outputs": [
        {
          "output_type": "execute_result",
          "data": {
            "text/plain": [
              "array([[1.],\n",
              "       [1.],\n",
              "       [1.]])"
            ]
          },
          "metadata": {
            "tags": []
          },
          "execution_count": 18
        }
      ]
    },
    {
      "cell_type": "code",
      "metadata": {
        "colab": {
          "base_uri": "https://localhost:8080/"
        },
        "id": "weNBR4Yj6b9_",
        "outputId": "1029bc91-e594-4885-ee96-d83717151f87"
      },
      "source": [
        "b = ((y_S - K_SS @ (alpha_S * y_S)).T @ one_vec) / N_S\n",
        "b"
      ],
      "execution_count": null,
      "outputs": [
        {
          "output_type": "execute_result",
          "data": {
            "text/plain": [
              "array([[-0.5]])"
            ]
          },
          "metadata": {
            "tags": []
          },
          "execution_count": 19
        }
      ]
    },
    {
      "cell_type": "markdown",
      "metadata": {
        "id": "fHodJBRs5kgO"
      },
      "source": [
        "# Soft Margin"
      ]
    },
    {
      "cell_type": "code",
      "metadata": {
        "id": "1BVxHzBd5kBs"
      },
      "source": [
        "C = 10\n",
        "X = np.array([[3, 4], [1, 4], [2, 3], [6, -1], [7, -1], [5, -3], [2, 4]])\n",
        "y = np.array([1, 1, 1, -1, -1, -1, -1]).reshape(-1, 1)"
      ],
      "execution_count": null,
      "outputs": []
    },
    {
      "cell_type": "code",
      "metadata": {
        "colab": {
          "base_uri": "https://localhost:8080/"
        },
        "id": "nAAQ4D2s6F4M",
        "outputId": "315c44ed-c17a-4fe8-9382-2089cfd1741a"
      },
      "source": [
        "KGram = X @ X.T\n",
        "KGram"
      ],
      "execution_count": null,
      "outputs": [
        {
          "output_type": "execute_result",
          "data": {
            "text/plain": [
              "array([[25, 19, 18, 14, 17,  3, 22],\n",
              "       [19, 17, 14,  2,  3, -7, 18],\n",
              "       [18, 14, 13,  9, 11,  1, 16],\n",
              "       [14,  2,  9, 37, 43, 33,  8],\n",
              "       [17,  3, 11, 43, 50, 38, 10],\n",
              "       [ 3, -7,  1, 33, 38, 34, -2],\n",
              "       [22, 18, 16,  8, 10, -2, 20]])"
            ]
          },
          "metadata": {
            "tags": []
          },
          "execution_count": 21
        }
      ]
    },
    {
      "cell_type": "code",
      "metadata": {
        "colab": {
          "base_uri": "https://localhost:8080/"
        },
        "id": "LWDhF2w16OMs",
        "outputId": "4273941a-8b8f-48d5-866a-f6f8bbcdc259"
      },
      "source": [
        "Y = y @ y.T\n",
        "Y"
      ],
      "execution_count": null,
      "outputs": [
        {
          "output_type": "execute_result",
          "data": {
            "text/plain": [
              "array([[ 1,  1,  1, -1, -1, -1, -1],\n",
              "       [ 1,  1,  1, -1, -1, -1, -1],\n",
              "       [ 1,  1,  1, -1, -1, -1, -1],\n",
              "       [-1, -1, -1,  1,  1,  1,  1],\n",
              "       [-1, -1, -1,  1,  1,  1,  1],\n",
              "       [-1, -1, -1,  1,  1,  1,  1],\n",
              "       [-1, -1, -1,  1,  1,  1,  1]])"
            ]
          },
          "metadata": {
            "tags": []
          },
          "execution_count": 22
        }
      ]
    },
    {
      "cell_type": "code",
      "metadata": {
        "colab": {
          "base_uri": "https://localhost:8080/"
        },
        "id": "XH4QF9eV6W83",
        "outputId": "e934f3af-609b-4634-b0a2-87f2ee86287b"
      },
      "source": [
        "K = KGram * Y * 1.\n",
        "K"
      ],
      "execution_count": null,
      "outputs": [
        {
          "output_type": "execute_result",
          "data": {
            "text/plain": [
              "array([[ 25.,  19.,  18., -14., -17.,  -3., -22.],\n",
              "       [ 19.,  17.,  14.,  -2.,  -3.,   7., -18.],\n",
              "       [ 18.,  14.,  13.,  -9., -11.,  -1., -16.],\n",
              "       [-14.,  -2.,  -9.,  37.,  43.,  33.,   8.],\n",
              "       [-17.,  -3., -11.,  43.,  50.,  38.,  10.],\n",
              "       [ -3.,   7.,  -1.,  33.,  38.,  34.,  -2.],\n",
              "       [-22., -18., -16.,   8.,  10.,  -2.,  20.]])"
            ]
          },
          "metadata": {
            "tags": []
          },
          "execution_count": 23
        }
      ]
    },
    {
      "cell_type": "code",
      "metadata": {
        "colab": {
          "base_uri": "https://localhost:8080/"
        },
        "id": "OzQ5B_Oe6btg",
        "outputId": "4bbc9cb6-b715-4e5d-acfd-eafbcc23990d"
      },
      "source": [
        "N, M = X.shape\n",
        "p = -np.ones((N, 1))\n",
        "p"
      ],
      "execution_count": null,
      "outputs": [
        {
          "output_type": "execute_result",
          "data": {
            "text/plain": [
              "array([[-1.],\n",
              "       [-1.],\n",
              "       [-1.],\n",
              "       [-1.],\n",
              "       [-1.],\n",
              "       [-1.],\n",
              "       [-1.]])"
            ]
          },
          "metadata": {
            "tags": []
          },
          "execution_count": 24
        }
      ]
    },
    {
      "cell_type": "code",
      "metadata": {
        "colab": {
          "base_uri": "https://localhost:8080/"
        },
        "id": "qitpbzEw6nsj",
        "outputId": "cc554b2d-445f-4964-f3b7-913be1ed88d3"
      },
      "source": [
        "G = np.vstack((-np.eye(N), np.eye(N)))\n",
        "G"
      ],
      "execution_count": null,
      "outputs": [
        {
          "output_type": "execute_result",
          "data": {
            "text/plain": [
              "array([[-1., -0., -0., -0., -0., -0., -0.],\n",
              "       [-0., -1., -0., -0., -0., -0., -0.],\n",
              "       [-0., -0., -1., -0., -0., -0., -0.],\n",
              "       [-0., -0., -0., -1., -0., -0., -0.],\n",
              "       [-0., -0., -0., -0., -1., -0., -0.],\n",
              "       [-0., -0., -0., -0., -0., -1., -0.],\n",
              "       [-0., -0., -0., -0., -0., -0., -1.],\n",
              "       [ 1.,  0.,  0.,  0.,  0.,  0.,  0.],\n",
              "       [ 0.,  1.,  0.,  0.,  0.,  0.,  0.],\n",
              "       [ 0.,  0.,  1.,  0.,  0.,  0.,  0.],\n",
              "       [ 0.,  0.,  0.,  1.,  0.,  0.,  0.],\n",
              "       [ 0.,  0.,  0.,  0.,  1.,  0.,  0.],\n",
              "       [ 0.,  0.,  0.,  0.,  0.,  1.,  0.],\n",
              "       [ 0.,  0.,  0.,  0.,  0.,  0.,  1.]])"
            ]
          },
          "metadata": {
            "tags": []
          },
          "execution_count": 25
        }
      ]
    },
    {
      "cell_type": "code",
      "metadata": {
        "colab": {
          "base_uri": "https://localhost:8080/"
        },
        "id": "6Cx_zb2R7CbO",
        "outputId": "cdbfcaba-1db7-465c-f290-98687e79922d"
      },
      "source": [
        "A = y.T * 1.\n",
        "A"
      ],
      "execution_count": null,
      "outputs": [
        {
          "output_type": "execute_result",
          "data": {
            "text/plain": [
              "array([[ 1.,  1.,  1., -1., -1., -1., -1.]])"
            ]
          },
          "metadata": {
            "tags": []
          },
          "execution_count": 26
        }
      ]
    },
    {
      "cell_type": "code",
      "metadata": {
        "colab": {
          "base_uri": "https://localhost:8080/"
        },
        "id": "Gyh6ABBS7Grp",
        "outputId": "2be26341-ef3f-4d61-8d4e-a5270a6cad2f"
      },
      "source": [
        "h = np.hstack((np.zeros(N), np.ones(N) * C)).reshape(-1, 1)\n",
        "h"
      ],
      "execution_count": null,
      "outputs": [
        {
          "output_type": "execute_result",
          "data": {
            "text/plain": [
              "array([[ 0.],\n",
              "       [ 0.],\n",
              "       [ 0.],\n",
              "       [ 0.],\n",
              "       [ 0.],\n",
              "       [ 0.],\n",
              "       [ 0.],\n",
              "       [10.],\n",
              "       [10.],\n",
              "       [10.],\n",
              "       [10.],\n",
              "       [10.],\n",
              "       [10.],\n",
              "       [10.]])"
            ]
          },
          "metadata": {
            "tags": []
          },
          "execution_count": 27
        }
      ]
    },
    {
      "cell_type": "code",
      "metadata": {
        "colab": {
          "base_uri": "https://localhost:8080/"
        },
        "id": "LzMOxgQt71oh",
        "outputId": "85b604b5-50f2-4904-d6bd-0eee3b2bf803"
      },
      "source": [
        "b = np.zeros((1,1))\n",
        "b"
      ],
      "execution_count": null,
      "outputs": [
        {
          "output_type": "execute_result",
          "data": {
            "text/plain": [
              "array([[0.]])"
            ]
          },
          "metadata": {
            "tags": []
          },
          "execution_count": 28
        }
      ]
    },
    {
      "cell_type": "code",
      "metadata": {
        "colab": {
          "base_uri": "https://localhost:8080/"
        },
        "id": "hAgWkRxP7su7",
        "outputId": "925d6b06-fc1b-48a1-84a9-545450a350f9"
      },
      "source": [
        "K = cvxopt_matrix(K)\n",
        "p = cvxopt_matrix(p)\n",
        "G = cvxopt_matrix(G)\n",
        "h = cvxopt_matrix(h)\n",
        "A = cvxopt_matrix(A)\n",
        "b = cvxopt_matrix(b)\n",
        "\n",
        "solution = cvxopt_solvers.qp(K, p, G, h, A, b)\n",
        "alpha = np.array(solution['x'])\n",
        "alpha"
      ],
      "execution_count": null,
      "outputs": [
        {
          "output_type": "stream",
          "text": [
            "     pcost       dcost       gap    pres   dres\n",
            " 0: -1.5556e+01 -2.5999e+02  3e+02  1e-01  2e-14\n",
            " 1: -1.8050e+01 -3.9497e+01  2e+01  4e-03  1e-14\n",
            " 2: -2.1437e+01 -2.3412e+01  2e+00  3e-04  2e-14\n",
            " 3: -2.2496e+01 -2.2997e+01  5e-01  3e-05  1e-14\n",
            " 4: -2.2561e+01 -2.2568e+01  6e-03  3e-07  2e-14\n",
            " 5: -2.2562e+01 -2.2563e+01  6e-05  3e-09  4e-14\n",
            " 6: -2.2562e+01 -2.2563e+01  6e-07  3e-11  2e-14\n",
            "Optimal solution found.\n"
          ],
          "name": "stdout"
        },
        {
          "output_type": "execute_result",
          "data": {
            "text/plain": [
              "array([[4.99999980e+00],\n",
              "       [1.52461667e-08],\n",
              "       [6.31250013e+00],\n",
              "       [1.31249982e+00],\n",
              "       [2.36607341e-08],\n",
              "       [1.32909858e-07],\n",
              "       [9.99999997e+00]])"
            ]
          },
          "metadata": {
            "tags": []
          },
          "execution_count": 29
        }
      ]
    },
    {
      "cell_type": "code",
      "metadata": {
        "colab": {
          "base_uri": "https://localhost:8080/"
        },
        "id": "hxa1WPkv-r3P",
        "outputId": "2af33a48-cdf8-4408-ccf4-bde07afa5a74"
      },
      "source": [
        "S_filter = (alpha > 1e-4)\n",
        "alpha_S  = alpha[S_filter].reshape(-1, 1)\n",
        "alpha_S"
      ],
      "execution_count": null,
      "outputs": [
        {
          "output_type": "execute_result",
          "data": {
            "text/plain": [
              "array([[4.9999998 ],\n",
              "       [6.31250013],\n",
              "       [1.31249982],\n",
              "       [9.99999997]])"
            ]
          },
          "metadata": {
            "tags": []
          },
          "execution_count": 30
        }
      ]
    },
    {
      "cell_type": "code",
      "metadata": {
        "colab": {
          "base_uri": "https://localhost:8080/"
        },
        "id": "kGv2PN8WBkBh",
        "outputId": "c86537fc-455a-48f5-a5ae-043cc97ee446"
      },
      "source": [
        "M_filter = (alpha_S < (C - 1e-4))\n",
        "alpha_M = alpha_S[M_filter].reshape(-1, 1)\n",
        "alpha_M"
      ],
      "execution_count": null,
      "outputs": [
        {
          "output_type": "execute_result",
          "data": {
            "text/plain": [
              "array([[4.9999998 ],\n",
              "       [6.31250013],\n",
              "       [1.31249982]])"
            ]
          },
          "metadata": {
            "tags": []
          },
          "execution_count": 31
        }
      ]
    },
    {
      "cell_type": "code",
      "metadata": {
        "colab": {
          "base_uri": "https://localhost:8080/"
        },
        "id": "kqTTGQ1pCzfU",
        "outputId": "14390187-87ef-4421-87ca-dae46e855de6"
      },
      "source": [
        "y_S = y[S_filter].reshape(-1, 1)\n",
        "y_S"
      ],
      "execution_count": null,
      "outputs": [
        {
          "output_type": "execute_result",
          "data": {
            "text/plain": [
              "array([[ 1],\n",
              "       [ 1],\n",
              "       [-1],\n",
              "       [-1]])"
            ]
          },
          "metadata": {
            "tags": []
          },
          "execution_count": 32
        }
      ]
    },
    {
      "cell_type": "code",
      "metadata": {
        "colab": {
          "base_uri": "https://localhost:8080/"
        },
        "id": "1EbytPezC9AK",
        "outputId": "aa36b22f-9e87-4a25-e5b2-19ba10ca6c7f"
      },
      "source": [
        "y_M = y_S[M_filter].reshape(-1, 1)\n",
        "y_M"
      ],
      "execution_count": null,
      "outputs": [
        {
          "output_type": "execute_result",
          "data": {
            "text/plain": [
              "array([[ 1],\n",
              "       [ 1],\n",
              "       [-1]])"
            ]
          },
          "metadata": {
            "tags": []
          },
          "execution_count": 33
        }
      ]
    },
    {
      "cell_type": "code",
      "metadata": {
        "colab": {
          "base_uri": "https://localhost:8080/"
        },
        "id": "Oobw-5FuDLsg",
        "outputId": "21060e57-6a2f-4e97-d309-9a7098c5afc7"
      },
      "source": [
        "X_S = X[S_filter.flatten(), :]\n",
        "X_S"
      ],
      "execution_count": null,
      "outputs": [
        {
          "output_type": "execute_result",
          "data": {
            "text/plain": [
              "array([[ 3,  4],\n",
              "       [ 2,  3],\n",
              "       [ 6, -1],\n",
              "       [ 2,  4]])"
            ]
          },
          "metadata": {
            "tags": []
          },
          "execution_count": 34
        }
      ]
    },
    {
      "cell_type": "code",
      "metadata": {
        "colab": {
          "base_uri": "https://localhost:8080/"
        },
        "id": "83OjMz2dDUKB",
        "outputId": "e0586a30-a600-45ac-f139-49ad4ca0db01"
      },
      "source": [
        "X_M = X_S[M_filter.flatten(), :]\n",
        "X_M"
      ],
      "execution_count": null,
      "outputs": [
        {
          "output_type": "execute_result",
          "data": {
            "text/plain": [
              "array([[ 3,  4],\n",
              "       [ 2,  3],\n",
              "       [ 6, -1]])"
            ]
          },
          "metadata": {
            "tags": []
          },
          "execution_count": 35
        }
      ]
    },
    {
      "cell_type": "code",
      "metadata": {
        "colab": {
          "base_uri": "https://localhost:8080/"
        },
        "id": "89tTEB37DEIa",
        "outputId": "a799b4df-6b9f-405b-e689-82f6abaa1f41"
      },
      "source": [
        "w = (y_S * alpha_S).T @ X_S\n",
        "w"
      ],
      "execution_count": null,
      "outputs": [
        {
          "output_type": "execute_result",
          "data": {
            "text/plain": [
              "array([[-0.24999919,  0.24999953]])"
            ]
          },
          "metadata": {
            "tags": []
          },
          "execution_count": 36
        }
      ]
    },
    {
      "cell_type": "code",
      "metadata": {
        "colab": {
          "base_uri": "https://localhost:8080/"
        },
        "id": "376qatZgDbgk",
        "outputId": "6af3dda2-8e8d-4608-e6c5-b8e1f31a2a9d"
      },
      "source": [
        "N_M = X_M.shape[0]\n",
        "K_MS = X_M @ X_S.T\n",
        "K_MS"
      ],
      "execution_count": null,
      "outputs": [
        {
          "output_type": "execute_result",
          "data": {
            "text/plain": [
              "array([[25, 18, 14, 22],\n",
              "       [18, 13,  9, 16],\n",
              "       [14,  9, 37,  8]])"
            ]
          },
          "metadata": {
            "tags": []
          },
          "execution_count": 37
        }
      ]
    },
    {
      "cell_type": "code",
      "metadata": {
        "colab": {
          "base_uri": "https://localhost:8080/"
        },
        "id": "HC0kJzc5D8tn",
        "outputId": "a911ac94-1661-4ff3-e03c-049cf61ab96d"
      },
      "source": [
        "b = ((y_M - K_MS @ (alpha_S * y_S)).T @ np.ones((N_M, 1))) / N_M\n",
        "b"
      ],
      "execution_count": null,
      "outputs": [
        {
          "output_type": "execute_result",
          "data": {
            "text/plain": [
              "array([[0.74999799]])"
            ]
          },
          "metadata": {
            "tags": []
          },
          "execution_count": 38
        }
      ]
    },
    {
      "cell_type": "code",
      "metadata": {
        "id": "KUkVDRrfKfGI"
      },
      "source": [
        ""
      ],
      "execution_count": null,
      "outputs": []
    }
  ]
}
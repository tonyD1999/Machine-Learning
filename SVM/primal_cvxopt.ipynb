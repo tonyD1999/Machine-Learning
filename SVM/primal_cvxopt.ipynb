{
  "nbformat": 4,
  "nbformat_minor": 0,
  "metadata": {
    "language_info": {
      "codemirror_mode": {
        "name": "ipython",
        "version": 3
      },
      "file_extension": ".py",
      "mimetype": "text/x-python",
      "name": "python",
      "nbconvert_exporter": "python",
      "pygments_lexer": "ipython3",
      "version": "3.8.5-final"
    },
    "orig_nbformat": 2,
    "kernelspec": {
      "name": "python38564bit383e7dc43300450abb176e4622c29eb7",
      "display_name": "Python 3.8.5 64-bit",
      "language": "python"
    },
    "colab": {
      "name": "primal_cvxopt.ipynb",
      "provenance": []
    }
  },
  "cells": [
    {
      "cell_type": "code",
      "metadata": {
        "id": "lGpOGzbcNnDn"
      },
      "source": [
        "from cvxopt import matrix, solvers\n",
        "import numpy as np"
      ],
      "execution_count": null,
      "outputs": []
    },
    {
      "cell_type": "code",
      "metadata": {
        "id": "N31Ta4-qNnDw"
      },
      "source": [
        "X = np.array([[1,1],[2,3],[2,1],[1,-1],[-1,-1],[-1,0]])\n",
        "y = np.array([-1,-1,-1,1,1,1])\n",
        "y = np.reshape(y, (X.shape[0],-1))\n",
        "N = X.shape[0]\n",
        "M = X.shape[1]+1"
      ],
      "execution_count": null,
      "outputs": []
    },
    {
      "cell_type": "code",
      "metadata": {
        "id": "WuScXtJzNnDx"
      },
      "source": [
        "K = matrix(np.eye(M))\n",
        "K[M-1,M-1]=0\n",
        "p = matrix(np.zeros((M,1)))\n",
        "G = np.concatenate((X, np.ones((N,1))), axis=1)*np.concatenate((-y,-y,-y), axis=1)\n",
        "G = matrix(G)\n",
        "h = matrix(-np.ones((N,1)))"
      ],
      "execution_count": null,
      "outputs": []
    },
    {
      "cell_type": "code",
      "metadata": {
        "id": "Ype5mgJCNnDy"
      },
      "source": [
        "solvers.options['show_progress'] = False\n",
        "solution = solvers.qp(K,p,G,h)\n",
        "wb = np.array(solution['x'])"
      ],
      "execution_count": null,
      "outputs": []
    },
    {
      "cell_type": "code",
      "metadata": {
        "id": "HfWWlkSLNnDy",
        "outputId": "1f26d3c5-c07e-4b8f-a5e8-c0131740b78e"
      },
      "source": [
        "wb"
      ],
      "execution_count": null,
      "outputs": [
        {
          "output_type": "execute_result",
          "data": {
            "text/plain": [
              "array([[-0.5],\n",
              "       [-1. ],\n",
              "       [ 0.5]])"
            ]
          },
          "metadata": {
            "tags": []
          },
          "execution_count": 128
        }
      ]
    }
  ]
}
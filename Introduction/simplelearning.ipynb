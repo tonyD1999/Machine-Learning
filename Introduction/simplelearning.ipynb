{
  "nbformat": 4,
  "nbformat_minor": 0,
  "metadata": {
    "colab": {
      "name": "simplelearning.ipynb",
      "provenance": [],
      "collapsed_sections": []
    },
    "kernelspec": {
      "name": "python3",
      "display_name": "Python 3"
    }
  },
  "cells": [
    {
      "cell_type": "code",
      "metadata": {
        "id": "0hLdj5Bss_HV",
        "colab": {
          "base_uri": "https://localhost:8080/",
          "height": 153
        },
        "outputId": "93429df3-0357-4a3e-a553-140e2cf2fd16"
      },
      "source": [
        "import numpy as np\n",
        "from sklearn import linear_model\n",
        "from sklearn.datasets import load_boston\n",
        "from sklearn.metrics import mean_squared_error\n",
        "from sklearn.model_selection import train_test_split\n",
        "\n",
        "#(1) Load data\n",
        "X, y = load_boston(return_X_y=True)\n",
        "\n",
        "#(2) Prepare: train, validation, and test sets\n",
        "\n",
        "X_train, X_test, y_train, y_test = train_test_split(X, y, test_size=0.2, random_state=100)\n",
        "print('Original X, shape: ', X.shape)\n",
        "print('Original y, shape: ', y.shape)\n",
        "print('X_train, shape: ', X_train.shape)\n",
        "print('y_train, shape: ', y_train.shape)\n",
        "print('X_test, shape: ', X_test.shape)\n",
        "print('y_test, shape: ', y_test.shape)\n",
        "\n",
        "#(3) Train & validate models\n",
        "model = linear_model.LinearRegression()\n",
        "model.fit(X_train, y_train)\n",
        "\n",
        "#(4) Test the model\n",
        "y_pred = model.predict(X_test)\n",
        "error = mean_squared_error(y_test, y_pred)\n",
        "print('MSE: ', error)\n",
        "\n",
        "\n",
        "#(5) Deploy the model: real-life case: not presented in this course\n"
      ],
      "execution_count": null,
      "outputs": [
        {
          "output_type": "stream",
          "text": [
            "Original X, shape:  (506, 13)\n",
            "Original y, shape:  (506,)\n",
            "X_train, shape:  (404, 13)\n",
            "y_train, shape:  (404,)\n",
            "X_test, shape:  (102, 13)\n",
            "y_test, shape:  (102,)\n",
            "MSE:  23.616994100563623\n"
          ],
          "name": "stdout"
        }
      ]
    },
    {
      "cell_type": "code",
      "metadata": {
        "id": "jriWZZI7uzN5",
        "colab": {
          "base_uri": "https://localhost:8080/",
          "height": 732
        },
        "outputId": "3ee45a1b-84cd-4d55-f2a5-25810439bc31"
      },
      "source": [
        "from sklearn.datasets import load_iris\n",
        "from sklearn.linear_model import LogisticRegression\n",
        "from sklearn.neighbors import KNeighborsClassifier\n",
        "from sklearn.tree import DecisionTreeClassifier\n",
        "from sklearn.metrics import classification_report\n",
        "\n",
        "#(1) Load data\n",
        "X, y = load_iris(return_X_y=True)\n",
        "\n",
        "#(2) Prepare: train, validation, and test sets\n",
        "\n",
        "X_train, X_test, y_train, y_test = train_test_split(X, y, test_size=0.2, random_state=100)\n",
        "print('Original X, shape: ', X.shape)\n",
        "print('Original y, shape: ', y.shape)\n",
        "print('X_train, shape: ', X_train.shape)\n",
        "print('y_train, shape: ', y_train.shape)\n",
        "print('X_test, shape: ', X_test.shape)\n",
        "print('y_test, shape: ', y_test.shape)\n",
        "\n",
        "#(3) Train & validate models\n",
        "models = [LogisticRegression(),\n",
        "          KNeighborsClassifier(n_neighbors=5),\n",
        "          DecisionTreeClassifier()]\n",
        "methods = ['LogisticRegression', 'KNeighborsClassifier', 'DecisionTreeClassifier']\n",
        "for model in models:\n",
        "  model.fit(X_train, y_train)\n",
        "\n",
        "\n",
        "#(4) Test the model\n",
        "\n",
        "model_idx = 0\n",
        "for model in models:\n",
        "  y_pred = model.predict(X_test)\n",
        "  print('\\nMethod: ', methods[model_idx])\n",
        "  print(classification_report(y_test, y_pred))\n",
        "  model_idx += 1\n",
        "\n",
        "\n",
        "#(5) Deploy the model: real-life case: not presented in this course\n"
      ],
      "execution_count": null,
      "outputs": [
        {
          "output_type": "stream",
          "text": [
            "Original X, shape:  (150, 4)\n",
            "Original y, shape:  (150,)\n",
            "X_train, shape:  (120, 4)\n",
            "y_train, shape:  (120,)\n",
            "X_test, shape:  (30, 4)\n",
            "y_test, shape:  (30,)\n",
            "\n",
            "Method:  LogisticRegression\n",
            "              precision    recall  f1-score   support\n",
            "\n",
            "           0       1.00      1.00      1.00        11\n",
            "           1       1.00      0.83      0.91         6\n",
            "           2       0.93      1.00      0.96        13\n",
            "\n",
            "    accuracy                           0.97        30\n",
            "   macro avg       0.98      0.94      0.96        30\n",
            "weighted avg       0.97      0.97      0.97        30\n",
            "\n",
            "\n",
            "Method:  KNeighborsClassifier\n",
            "              precision    recall  f1-score   support\n",
            "\n",
            "           0       1.00      1.00      1.00        11\n",
            "           1       1.00      1.00      1.00         6\n",
            "           2       1.00      1.00      1.00        13\n",
            "\n",
            "    accuracy                           1.00        30\n",
            "   macro avg       1.00      1.00      1.00        30\n",
            "weighted avg       1.00      1.00      1.00        30\n",
            "\n",
            "\n",
            "Method:  DecisionTreeClassifier\n",
            "              precision    recall  f1-score   support\n",
            "\n",
            "           0       1.00      1.00      1.00        11\n",
            "           1       1.00      0.83      0.91         6\n",
            "           2       0.93      1.00      0.96        13\n",
            "\n",
            "    accuracy                           0.97        30\n",
            "   macro avg       0.98      0.94      0.96        30\n",
            "weighted avg       0.97      0.97      0.97        30\n",
            "\n"
          ],
          "name": "stdout"
        }
      ]
    }
  ]
}
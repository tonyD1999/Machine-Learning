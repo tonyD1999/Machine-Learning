{
  "nbformat": 4,
  "nbformat_minor": 0,
  "metadata": {
    "colab": {
      "name": "Linear Regression.ipynb",
      "provenance": [],
      "collapsed_sections": []
    },
    "kernelspec": {
      "name": "python3",
      "display_name": "Python 3"
    }
  },
  "cells": [
    {
      "cell_type": "markdown",
      "metadata": {
        "id": "zHOLfrlX9Bjl"
      },
      "source": [
        "# Data generator"
      ]
    },
    {
      "cell_type": "code",
      "metadata": {
        "id": "ZBCG2E099BAk"
      },
      "source": [
        "import numpy as np\n",
        "import matplotlib.pyplot as plt\n",
        "import itertools\n",
        "import functools"
      ],
      "execution_count": null,
      "outputs": []
    },
    {
      "cell_type": "code",
      "metadata": {
        "id": "ZTsfbUos19eK"
      },
      "source": [
        "def true_model(x):\n",
        "  return np.sin(x**2 + 1)\n"
      ],
      "execution_count": null,
      "outputs": []
    },
    {
      "cell_type": "code",
      "metadata": {
        "id": "VjeOsqQ5AKun",
        "colab": {
          "base_uri": "https://localhost:8080/",
          "height": 282
        },
        "outputId": "eeec679a-d796-4fc0-c378-277e08012ff4"
      },
      "source": [
        "N = 100\n",
        "x = np.random.uniform(0, 1, N)\n",
        "noise = np.random.normal(0, 0.03, N)\n",
        "y = true_model(x) + noise\n",
        "plt.scatter(x, y)\n",
        "line_x =  np.linspace(0, 1, N)\n",
        "\n",
        "plt.plot(line_x, true_model(line_x), 'r')"
      ],
      "execution_count": null,
      "outputs": [
        {
          "output_type": "execute_result",
          "data": {
            "text/plain": [
              "[<matplotlib.lines.Line2D at 0x7fdf82193b70>]"
            ]
          },
          "metadata": {
            "tags": []
          },
          "execution_count": 3
        },
        {
          "output_type": "display_data",
          "data": {
            "image/png": "[encoded data removed]",
            "text/plain": [
              "<Figure size 432x288 with 1 Axes>"
            ]
          },
          "metadata": {
            "tags": [],
            "needs_background": "light"
          }
        }
      ]
    },
    {
      "cell_type": "code",
      "metadata": {
        "id": "0jUBkJ2IAb5E"
      },
      "source": [
        "def create_data(function, sample_size, loc, std,domain=(0,1)):\n",
        "  x = np.random.uniform(domain[0], domain[1], sample_size)\n",
        "  t = function(x) + np.random.normal(loc, std, sample_size)\n",
        "  return x, t"
      ],
      "execution_count": null,
      "outputs": []
    },
    {
      "cell_type": "code",
      "metadata": {
        "id": "H7T33sscCYhR",
        "colab": {
          "base_uri": "https://localhost:8080/",
          "height": 282
        },
        "outputId": "3c826795-ada9-48c8-cf3f-f4ac06903960"
      },
      "source": [
        "x, t = create_data(lambda _: np.sin(_**2 + 1) , 100, 0, 0.03)\n",
        "plt.scatter(x, t)\n",
        "line_x = np.linspace(0, 1, 100)\n",
        "plt.plot(line_x, np.sin(line_x**2 + 1), 'r')"
      ],
      "execution_count": null,
      "outputs": [
        {
          "output_type": "execute_result",
          "data": {
            "text/plain": [
              "[<matplotlib.lines.Line2D at 0x7fdf820c48d0>]"
            ]
          },
          "metadata": {
            "tags": []
          },
          "execution_count": 5
        },
        {
          "output_type": "display_data",
          "data": {
            "image/png": "[encoded data removed]",
            "text/plain": [
              "<Figure size 432x288 with 1 Axes>"
            ]
          },
          "metadata": {
            "tags": [],
            "needs_background": "light"
          }
        }
      ]
    },
    {
      "cell_type": "code",
      "metadata": {
        "id": "fQUzsTdfFDOM"
      },
      "source": [
        "class Regression(object):\n",
        "  pass\n",
        "\n",
        "class LinearRegression(Regression):\n",
        "  def fit(self, X:np.ndarray, t:np.ndarray):\n",
        "    print(X.shape)\n",
        "    self.w = np.linalg.pinv(X) @ t\n",
        "    print(self.w.shape)\n",
        "  def predict(self, X:np.ndarray):\n",
        "    y =  X @ self.w\n",
        "    return y\n",
        "\n",
        "\n",
        "class PolynomialFeature(object):\n",
        "    \"\"\"\n",
        "    polynomial features\n",
        "    transforms input array with polynomial features\n",
        "    Example\n",
        "    =======\n",
        "    x =\n",
        "    [[a, b],\n",
        "    [c, d]]\n",
        "    y = PolynomialFeatures(degree=2).transform(x)\n",
        "    y =\n",
        "    [[1, a, b, a^2, a * b, b^2],\n",
        "    [1, c, d, c^2, c * d, d^2]]\n",
        "    \"\"\"\n",
        "\n",
        "    def __init__(self, degree=2):\n",
        "        \"\"\"\n",
        "        construct polynomial features\n",
        "        Parameters\n",
        "        ----------\n",
        "        degree : int\n",
        "            degree of polynomial\n",
        "        \"\"\"\n",
        "        assert isinstance(degree, int)\n",
        "        self.degree = degree\n",
        "\n",
        "    def transform(self, x):\n",
        "        \"\"\"\n",
        "        transforms input array with polynomial features\n",
        "        Parameters\n",
        "        ----------\n",
        "        x : (sample_size, n) ndarray\n",
        "            input array\n",
        "        Returns\n",
        "        -------\n",
        "        output : (sample_size, 1 + nC1 + ... + nCd) ndarray\n",
        "            polynomial features\n",
        "        \"\"\"\n",
        "        if x.ndim == 1:\n",
        "            x = x[:, None]\n",
        "        x_t = x.transpose()\n",
        "        features = [np.ones(len(x))]\n",
        "        for degree in range(1, self.degree + 1):\n",
        "            for items in itertools.combinations_with_replacement(x_t, degree):\n",
        "                features.append(functools.reduce(lambda x, y: x * y, items))\n",
        "        return np.asarray(features).transpose()"
      ],
      "execution_count": null,
      "outputs": []
    },
    {
      "cell_type": "code",
      "metadata": {
        "id": "I1Jb7sJlv_RM",
        "colab": {
          "base_uri": "https://localhost:8080/",
          "height": 315
        },
        "outputId": "6c23f509-89ab-45ec-da4d-bf6b4d9cd623"
      },
      "source": [
        "model = LinearRegression()\n",
        "x_test = np.linspace(0, 1, 100)\n",
        "feature = PolynomialFeature(15)\n",
        "X_train = feature.transform(x)\n",
        "X_test = feature.transform(x_test)\n",
        "model.fit(X_train, t)\n",
        "y_predict = model.predict(X_test)\n",
        "# print(X_test.shape)\n",
        "plt.scatter(x, t)\n",
        "plt.plot(line_x, np.sin(line_x**2 + 1), 'r')\n",
        "plt.plot(x_test, y_predict, 'g')\n"
      ],
      "execution_count": null,
      "outputs": [
        {
          "output_type": "stream",
          "text": [
            "(100, 16)\n",
            "(16,)\n"
          ],
          "name": "stdout"
        },
        {
          "output_type": "execute_result",
          "data": {
            "text/plain": [
              "[<matplotlib.lines.Line2D at 0x7fdf81bb64e0>]"
            ]
          },
          "metadata": {
            "tags": []
          },
          "execution_count": 7
        },
        {
          "output_type": "display_data",
          "data": {
            "image/png": "[encoded data removed]",
            "text/plain": [
              "<Figure size 432x288 with 1 Axes>"
            ]
          },
          "metadata": {
            "tags": [],
            "needs_background": "light"
          }
        }
      ]
    },
    {
      "cell_type": "code",
      "metadata": {
        "id": "Ge-fVD1aAIq3",
        "colab": {
          "base_uri": "https://localhost:8080/"
        },
        "outputId": "35c49153-cd5a-4d16-d75f-c068aea23df5"
      },
      "source": [
        "np.linspace(0, 1, 8)"
      ],
      "execution_count": null,
      "outputs": [
        {
          "output_type": "execute_result",
          "data": {
            "text/plain": [
              "array([0.        , 0.14285714, 0.28571429, 0.42857143, 0.57142857,\n",
              "       0.71428571, 0.85714286, 1.        ])"
            ]
          },
          "metadata": {
            "tags": []
          },
          "execution_count": 8
        }
      ]
    },
    {
      "cell_type": "code",
      "metadata": {
        "id": "nn0ZW2-5InCy"
      },
      "source": [
        "class RidgeRegression(Regression):\n",
        "    \"\"\"\n",
        "    Ridge regression model\n",
        "    w* = argmin |t - X @ w| + alpha * |w|_2^2\n",
        "    \"\"\"\n",
        "\n",
        "    def __init__(self, alpha:float=1.):\n",
        "        self.alpha = alpha\n",
        "\n",
        "    def fit(self, X:np.ndarray, t:np.ndarray):\n",
        "        \"\"\"\n",
        "        maximum a posteriori estimation of parameter\n",
        "        Parameters\n",
        "        ----------\n",
        "        X : (N, D) np.ndarray\n",
        "            training data independent variable\n",
        "        t : (N,) np.ndarray\n",
        "            training data dependent variable\n",
        "        \"\"\"\n",
        "\n",
        "        # eye = np.eye(np.size(X, 1))\n",
        "        # print(np.size(X, 1))\n",
        "        # self.w = np.linalg.solve(self.alpha * eye + X.T @ X, X.T @ t)\n",
        "        K = self.alpha * np.eye(X.shape[1]) + X.T @ X\n",
        "        self.w = (np.linalg.inv(K) @ X.T) @ t\n",
        "\n",
        "\n",
        "\n",
        "    def predict(self, X:np.ndarray):\n",
        "        \"\"\"\n",
        "        make prediction given input\n",
        "        Parameters\n",
        "        ----------\n",
        "        X : (N, D) np.ndarray\n",
        "            samples to predict their output\n",
        "        Returns\n",
        "        -------\n",
        "        (N,) np.ndarray\n",
        "            prediction of each input\n",
        "        \"\"\"\n",
        "        return X @ self.w"
      ],
      "execution_count": null,
      "outputs": []
    },
    {
      "cell_type": "code",
      "metadata": {
        "id": "H1LK-sP9IrlS",
        "colab": {
          "base_uri": "https://localhost:8080/",
          "height": 282
        },
        "outputId": "0e998099-3031-455d-ecd1-14fcfced1149"
      },
      "source": [
        "model = RidgeRegression(0.001)\n",
        "x_test = np.linspace(0, 1, 100)\n",
        "feature = PolynomialFeature(20)\n",
        "X_train = feature.transform(x)\n",
        "X_test = feature.transform(x_test)\n",
        "model.fit(X_train, t)\n",
        "y_predict = model.predict(X_test)\n",
        "# print(X_test.shape)\n",
        "plt.scatter(x, t)\n",
        "plt.plot(line_x, np.sin(line_x**2 + 1), 'r')\n",
        "plt.plot(x_test, y_predict, 'g')"
      ],
      "execution_count": null,
      "outputs": [
        {
          "output_type": "execute_result",
          "data": {
            "text/plain": [
              "[<matplotlib.lines.Line2D at 0x7fdf81b9db70>]"
            ]
          },
          "metadata": {
            "tags": []
          },
          "execution_count": 10
        },
        {
          "output_type": "display_data",
          "data": {
            "image/png": "[encoded data removed]",
            "text/plain": [
              "<Figure size 432x288 with 1 Axes>"
            ]
          },
          "metadata": {
            "tags": [],
            "needs_background": "light"
          }
        }
      ]
    },
    {
      "cell_type": "code",
      "metadata": {
        "id": "Q7xgzU4pI0Im"
      },
      "source": [
        ""
      ],
      "execution_count": null,
      "outputs": []
    }
  ]
}
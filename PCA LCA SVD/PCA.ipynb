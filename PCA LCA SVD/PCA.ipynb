{
  "nbformat": 4,
  "nbformat_minor": 0,
  "metadata": {
    "colab": {
      "name": "PCA.ipynb",
      "provenance": []
    },
    "kernelspec": {
      "name": "python3",
      "display_name": "Python 3"
    }
  },
  "cells": [
    {
      "cell_type": "code",
      "metadata": {
        "colab": {
          "base_uri": "https://localhost:8080/"
        },
        "id": "DDEv10-DWBEh",
        "outputId": "c397c8b9-ff73-4143-cd3c-a7478cce8747"
      },
      "source": [
        "!git clone https://github.com/AjinkyaGhadge/PCA-from-scratch-in-Python.git"
      ],
      "execution_count": null,
      "outputs": [
        {
          "output_type": "stream",
          "text": [
            "Cloning into 'PCA-from-scratch-in-Python'...\n",
            "remote: Enumerating objects: 22, done.\u001b[K\n",
            "remote: Counting objects: 100% (22/22), done.\u001b[K\n",
            "remote: Compressing objects: 100% (18/18), done.\u001b[K\n",
            "remote: Total 22 (delta 2), reused 19 (delta 2), pack-reused 0\u001b[K\n",
            "Unpacking objects: 100% (22/22), done.\n"
          ],
          "name": "stdout"
        }
      ]
    },
    {
      "cell_type": "code",
      "metadata": {
        "id": "hiLspKEpZU1L"
      },
      "source": [
        "import numpy as np\n",
        "import matplotlib.pyplot as plt\n"
      ],
      "execution_count": null,
      "outputs": []
    },
    {
      "cell_type": "code",
      "metadata": {
        "id": "EDudqe3xZz6w"
      },
      "source": [
        "X = np.load(\"X_train.npy\")\n",
        "y = np.load(\"y_train.npy\")"
      ],
      "execution_count": null,
      "outputs": []
    },
    {
      "cell_type": "code",
      "metadata": {
        "colab": {
          "base_uri": "https://localhost:8080/"
        },
        "id": "KmynUTT_Z7YK",
        "outputId": "e05a1ec8-4a5a-4d68-e31c-192c04164de0"
      },
      "source": [
        "X.shape"
      ],
      "execution_count": null,
      "outputs": [
        {
          "output_type": "execute_result",
          "data": {
            "text/plain": [
              "(10000, 784)"
            ]
          },
          "metadata": {
            "tags": []
          },
          "execution_count": 5
        }
      ]
    },
    {
      "cell_type": "code",
      "metadata": {
        "colab": {
          "base_uri": "https://localhost:8080/"
        },
        "id": "AGD9NBQVaAg0",
        "outputId": "80aaaac0-85a8-406b-f15a-9f391a0053ec"
      },
      "source": [
        "X[0].shape"
      ],
      "execution_count": null,
      "outputs": [
        {
          "output_type": "execute_result",
          "data": {
            "text/plain": [
              "(784,)"
            ]
          },
          "metadata": {
            "tags": []
          },
          "execution_count": 6
        }
      ]
    },
    {
      "cell_type": "code",
      "metadata": {
        "colab": {
          "base_uri": "https://localhost:8080/",
          "height": 283
        },
        "id": "MvtvKZmnaIqv",
        "outputId": "c4532373-3d4a-4b7a-b36d-9c7fbf64894c"
      },
      "source": [
        "plt.imshow(X[0].reshape(28, 28))"
      ],
      "execution_count": null,
      "outputs": [
        {
          "output_type": "execute_result",
          "data": {
            "text/plain": [
              "<matplotlib.image.AxesImage at 0x7fa70649d588>"
            ]
          },
          "metadata": {
            "tags": []
          },
          "execution_count": 8
        },
        {
          "output_type": "display_data",
          "data": {
            "image/png": "[encoded data removed]",
            "text/plain": [
              "<Figure size 432x288 with 1 Axes>"
            ]
          },
          "metadata": {
            "tags": [],
            "needs_background": "light"
          }
        }
      ]
    },
    {
      "cell_type": "code",
      "metadata": {
        "id": "ThT93LaDaSoc"
      },
      "source": [
        "mean = np.mean(X, axis= 0).reshape(-1, 1)\n"
      ],
      "execution_count": null,
      "outputs": []
    },
    {
      "cell_type": "code",
      "metadata": {
        "colab": {
          "base_uri": "https://localhost:8080/",
          "height": 283
        },
        "id": "zoS_2ts9aoka",
        "outputId": "f6888e8d-1d72-41de-ca4f-ef17113f0247"
      },
      "source": [
        "plt.imshow(mean.reshape(28,28))"
      ],
      "execution_count": null,
      "outputs": [
        {
          "output_type": "execute_result",
          "data": {
            "text/plain": [
              "<matplotlib.image.AxesImage at 0x7fa7036dbcf8>"
            ]
          },
          "metadata": {
            "tags": []
          },
          "execution_count": 31
        },
        {
          "output_type": "display_data",
          "data": {
            "image/png": "[encoded data removed]",
            "text/plain": [
              "<Figure size 432x288 with 1 Axes>"
            ]
          },
          "metadata": {
            "tags": [],
            "needs_background": "light"
          }
        }
      ]
    },
    {
      "cell_type": "code",
      "metadata": {
        "colab": {
          "base_uri": "https://localhost:8080/"
        },
        "id": "ulMxRz82asdb",
        "outputId": "7e91d5f3-b75b-4200-f6c4-6fa06d0f97be"
      },
      "source": [
        "S = (X - mean.T).T @ (X - mean.T)\n",
        "S.shape"
      ],
      "execution_count": null,
      "outputs": [
        {
          "output_type": "execute_result",
          "data": {
            "text/plain": [
              "(784, 784)"
            ]
          },
          "metadata": {
            "tags": []
          },
          "execution_count": 33
        }
      ]
    },
    {
      "cell_type": "code",
      "metadata": {
        "colab": {
          "base_uri": "https://localhost:8080/"
        },
        "id": "XsFH_BQ2a2W6",
        "outputId": "190af644-fbdc-4514-9951-0bfbef34ee69"
      },
      "source": [
        "S"
      ],
      "execution_count": null,
      "outputs": [
        {
          "output_type": "execute_result",
          "data": {
            "text/plain": [
              "array([[0., 0., 0., ..., 0., 0., 0.],\n",
              "       [0., 0., 0., ..., 0., 0., 0.],\n",
              "       [0., 0., 0., ..., 0., 0., 0.],\n",
              "       ...,\n",
              "       [0., 0., 0., ..., 0., 0., 0.],\n",
              "       [0., 0., 0., ..., 0., 0., 0.],\n",
              "       [0., 0., 0., ..., 0., 0., 0.]], dtype=float32)"
            ]
          },
          "metadata": {
            "tags": []
          },
          "execution_count": 34
        }
      ]
    },
    {
      "cell_type": "code",
      "metadata": {
        "colab": {
          "base_uri": "https://localhost:8080/"
        },
        "id": "ykxxkYZWZqQE",
        "outputId": "5f447236-c39b-4abc-bd68-eced8cda570b"
      },
      "source": [
        "np.cov(X - mean.T, rowvar = 0) # S"
      ],
      "execution_count": null,
      "outputs": [
        {
          "output_type": "execute_result",
          "data": {
            "text/plain": [
              "array([[0., 0., 0., ..., 0., 0., 0.],\n",
              "       [0., 0., 0., ..., 0., 0., 0.],\n",
              "       [0., 0., 0., ..., 0., 0., 0.],\n",
              "       ...,\n",
              "       [0., 0., 0., ..., 0., 0., 0.],\n",
              "       [0., 0., 0., ..., 0., 0., 0.],\n",
              "       [0., 0., 0., ..., 0., 0., 0.]])"
            ]
          },
          "metadata": {
            "tags": []
          },
          "execution_count": 36
        }
      ]
    },
    {
      "cell_type": "code",
      "metadata": {
        "id": "LNHdVXpjbvhw"
      },
      "source": [
        "eig_vals, eig_vecs = np.linalg.eig(S) # D, U"
      ],
      "execution_count": null,
      "outputs": []
    },
    {
      "cell_type": "code",
      "metadata": {
        "colab": {
          "base_uri": "https://localhost:8080/"
        },
        "id": "dYoa1lyrb3cE",
        "outputId": "a6e4a689-9a97-4ac2-e286-e124023a4ce9"
      },
      "source": [
        "eig_vals.shape"
      ],
      "execution_count": null,
      "outputs": [
        {
          "output_type": "execute_result",
          "data": {
            "text/plain": [
              "(784,)"
            ]
          },
          "metadata": {
            "tags": []
          },
          "execution_count": 38
        }
      ]
    },
    {
      "cell_type": "code",
      "metadata": {
        "colab": {
          "base_uri": "https://localhost:8080/"
        },
        "id": "L4m1IUJCb81K",
        "outputId": "644f9eec-ed45-40bb-e7af-5c86980e53e8"
      },
      "source": [
        "eig_vecs.shape"
      ],
      "execution_count": null,
      "outputs": [
        {
          "output_type": "execute_result",
          "data": {
            "text/plain": [
              "(784, 784)"
            ]
          },
          "metadata": {
            "tags": []
          },
          "execution_count": 39
        }
      ]
    },
    {
      "cell_type": "code",
      "metadata": {
        "colab": {
          "base_uri": "https://localhost:8080/"
        },
        "id": "G7CIdTCJcmlU",
        "outputId": "17f3d098-3884-46b9-8f02-65a926da3668"
      },
      "source": [
        "eigen_values_sorted = np.argsort(-eig_vals)\n",
        "eig_vals[eigen_values_sorted]"
      ],
      "execution_count": null,
      "outputs": [
        {
          "output_type": "execute_result",
          "data": {
            "text/plain": [
              "array([ 4.96837969e+04,  3.63776367e+04,  3.25572285e+04,  2.82821426e+04,\n",
              "        2.58972930e+04,  2.28644766e+04,  1.72061113e+04,  1.54129219e+04,\n",
              "        1.45388818e+04,  1.23575000e+04,  1.08158408e+04,  1.05118652e+04,\n",
              "        9.05547656e+03,  8.92816504e+03,  8.15907178e+03,  7.93650586e+03,\n",
              "        7.02684326e+03,  6.83241992e+03,  6.22418213e+03,  5.99463672e+03,\n",
              "        5.63807471e+03,  5.33259717e+03,  5.02085840e+03,  4.81747656e+03,\n",
              "        4.75154004e+03,  4.35178271e+03,  4.29119434e+03,  4.14211279e+03,\n",
              "        3.94324219e+03,  3.69595605e+03,  3.47917407e+03,  3.43290063e+03,\n",
              "        3.19239502e+03,  3.07498145e+03,  3.06427173e+03,  2.87531299e+03,\n",
              "        2.71168823e+03,  2.58879492e+03,  2.56574341e+03,  2.53060352e+03,\n",
              "        2.41914209e+03,  2.32304004e+03,  2.23442700e+03,  2.09623682e+03,\n",
              "        2.02665845e+03,  2.00280798e+03,  1.90440332e+03,  1.85633850e+03,\n",
              "        1.77403235e+03,  1.75797595e+03,  1.70465991e+03,  1.64492322e+03,\n",
              "        1.55211011e+03,  1.54079248e+03,  1.51689197e+03,  1.48429529e+03,\n",
              "        1.43416626e+03,  1.35648596e+03,  1.35397107e+03,  1.28207764e+03,\n",
              "        1.26349158e+03,  1.25165100e+03,  1.20169458e+03,  1.17629419e+03,\n",
              "        1.13818030e+03,  1.09009802e+03,  1.06074231e+03,  1.04466833e+03,\n",
              "        1.03321777e+03,  9.96762634e+02,  9.83775208e+02,  9.71752808e+02,\n",
              "        9.59628174e+02,  9.21594727e+02,  9.05091064e+02,  8.72903076e+02,\n",
              "        8.55643799e+02,  8.16858765e+02,  7.77584167e+02,  7.74844543e+02,\n",
              "        7.64779236e+02,  7.58520996e+02,  7.42830139e+02,  7.13264343e+02,\n",
              "        7.11810913e+02,  6.88972168e+02,  6.75362122e+02,  6.68050354e+02,\n",
              "        6.65978943e+02,  6.48130554e+02,  6.35740479e+02,  6.17540344e+02,\n",
              "        6.06359863e+02,  5.96319641e+02,  5.80551636e+02,  5.53046082e+02,\n",
              "        5.51927673e+02,  5.41313782e+02,  5.35017822e+02,  5.25380249e+02,\n",
              "        5.20954956e+02,  5.04413086e+02,  4.96636719e+02,  4.85934113e+02,\n",
              "        4.82491699e+02,  4.69316315e+02,  4.64009430e+02,  4.49479034e+02,\n",
              "        4.39104767e+02,  4.28037323e+02,  4.27408539e+02,  4.16069733e+02,\n",
              "        4.13391235e+02,  4.07031219e+02,  4.02168945e+02,  3.99678986e+02,\n",
              "        3.92069122e+02,  3.84148224e+02,  3.79572632e+02,  3.73500031e+02,\n",
              "        3.71603058e+02,  3.68314270e+02,  3.60915527e+02,  3.52765564e+02,\n",
              "        3.48511993e+02,  3.44025665e+02,  3.33704559e+02,  3.30296234e+02,\n",
              "        3.28283173e+02,  3.24108246e+02,  3.15655365e+02,  3.12971405e+02,\n",
              "        3.10540985e+02,  3.08440765e+02,  3.02749329e+02,  2.98053528e+02,\n",
              "        2.92894745e+02,  2.92205292e+02,  2.86195740e+02,  2.78654297e+02,\n",
              "        2.75021820e+02,  2.73666199e+02,  2.69820129e+02,  2.67686005e+02,\n",
              "        2.62313507e+02,  2.61412537e+02,  2.58723175e+02,  2.52732239e+02,\n",
              "        2.49628174e+02,  2.49420776e+02,  2.46704529e+02,  2.43469025e+02,\n",
              "        2.38438538e+02,  2.35304352e+02,  2.34293777e+02,  2.30255569e+02,\n",
              "        2.28404236e+02,  2.24864700e+02,  2.23028397e+02,  2.20364227e+02,\n",
              "        2.18117508e+02,  2.15802948e+02,  2.11682495e+02,  2.10901031e+02,\n",
              "        2.08548431e+02,  2.06207687e+02,  2.02088150e+02,  2.00812210e+02,\n",
              "        2.00383743e+02,  1.95661407e+02,  1.94624985e+02,  1.92029755e+02,\n",
              "        1.91579208e+02,  1.89095795e+02,  1.87088486e+02,  1.85949432e+02,\n",
              "        1.83263962e+02,  1.81509918e+02,  1.78457245e+02,  1.78367432e+02,\n",
              "        1.76261215e+02,  1.74463577e+02,  1.72273193e+02,  1.71291992e+02,\n",
              "        1.68693207e+02,  1.68212448e+02,  1.67492966e+02,  1.65441162e+02,\n",
              "        1.64943634e+02,  1.61325729e+02,  1.60605362e+02,  1.58351364e+02,\n",
              "        1.57237564e+02,  1.57073318e+02,  1.56195267e+02,  1.54086258e+02,\n",
              "        1.52902771e+02,  1.51117569e+02,  1.49875320e+02,  1.49074356e+02,\n",
              "        1.46511490e+02,  1.45938004e+02,  1.44476227e+02,  1.43522751e+02,\n",
              "        1.41548157e+02,  1.40890839e+02,  1.40288635e+02,  1.38691833e+02,\n",
              "        1.37524445e+02,  1.36756958e+02,  1.35922638e+02,  1.34841812e+02,\n",
              "        1.33802933e+02,  1.31329239e+02,  1.30439163e+02,  1.30193069e+02,\n",
              "        1.29535858e+02,  1.29006256e+02,  1.27372200e+02,  1.25821472e+02,\n",
              "        1.24173676e+02,  1.24037888e+02,  1.22197510e+02,  1.21228058e+02,\n",
              "        1.20181572e+02,  1.19594200e+02,  1.18883072e+02,  1.17949989e+02,\n",
              "        1.17398552e+02,  1.16251930e+02,  1.15735748e+02,  1.15174683e+02,\n",
              "        1.13948753e+02,  1.13286842e+02,  1.12994461e+02,  1.11675446e+02,\n",
              "        1.11330376e+02,  1.09466599e+02,  1.08957344e+02,  1.06924789e+02,\n",
              "        1.06434311e+02,  1.05953156e+02,  1.05181984e+02,  1.04488541e+02,\n",
              "        1.04022934e+02,  1.03023254e+02,  1.02611862e+02,  1.02079193e+02,\n",
              "        1.00309204e+02,  9.99086456e+01,  9.90622177e+01,  9.87165680e+01,\n",
              "        9.84863815e+01,  9.80520859e+01,  9.75937500e+01,  9.60763245e+01,\n",
              "        9.49338303e+01,  9.45992737e+01,  9.37678909e+01,  9.35368881e+01,\n",
              "        9.26906815e+01,  9.21464157e+01,  9.10980225e+01,  9.07781525e+01,\n",
              "        9.06559219e+01,  8.97596207e+01,  8.90976562e+01,  8.85376740e+01,\n",
              "        8.75799179e+01,  8.68891220e+01,  8.59761429e+01,  8.54631729e+01,\n",
              "        8.44802933e+01,  8.41119995e+01,  8.35910187e+01,  8.29542770e+01,\n",
              "        8.27350082e+01,  8.23446579e+01,  8.18515778e+01,  8.11749344e+01,\n",
              "        8.06473770e+01,  8.02460403e+01,  7.97825394e+01,  7.91679840e+01,\n",
              "        7.77717361e+01,  7.72193909e+01,  7.67057800e+01,  7.61136551e+01,\n",
              "        7.56627197e+01,  7.49479218e+01,  7.42541046e+01,  7.36969299e+01,\n",
              "        7.33494415e+01,  7.22828674e+01,  7.18268661e+01,  7.17993164e+01,\n",
              "        7.15424957e+01,  7.12825394e+01,  6.99568787e+01,  6.99340057e+01,\n",
              "        6.96030884e+01,  6.85511856e+01,  6.78454056e+01,  6.76891632e+01,\n",
              "        6.73118973e+01,  6.66909943e+01,  6.62942047e+01,  6.58455276e+01,\n",
              "        6.49259949e+01,  6.47068024e+01,  6.43152084e+01,  6.38226204e+01,\n",
              "        6.37188301e+01,  6.26277962e+01,  6.22516022e+01,  6.18300247e+01,\n",
              "        6.14402733e+01,  6.12980080e+01,  6.07104759e+01,  6.05259705e+01,\n",
              "        6.00511589e+01,  5.96392326e+01,  5.94913101e+01,  5.93101082e+01,\n",
              "        5.82806396e+01,  5.80674171e+01,  5.76964531e+01,  5.75050621e+01,\n",
              "        5.71329613e+01,  5.64939537e+01,  5.60885658e+01,  5.53305092e+01,\n",
              "        5.51792641e+01,  5.46143761e+01,  5.41608200e+01,  5.40152740e+01,\n",
              "        5.37925453e+01,  5.33257980e+01,  5.26870193e+01,  5.23412018e+01,\n",
              "        5.23026886e+01,  5.17667236e+01,  5.12347336e+01,  5.09796829e+01,\n",
              "        5.04188614e+01,  4.94761009e+01,  4.94021530e+01,  4.88156242e+01,\n",
              "        4.86012878e+01,  4.82660103e+01,  4.80575981e+01,  4.77687035e+01,\n",
              "        4.75144615e+01,  4.71475410e+01,  4.60893898e+01,  4.60284081e+01,\n",
              "        4.52950134e+01,  4.50795174e+01,  4.49411964e+01,  4.44561768e+01,\n",
              "        4.40214462e+01,  4.38967056e+01,  4.36230278e+01,  4.33866043e+01,\n",
              "        4.30282364e+01,  4.24501610e+01,  4.21232986e+01,  4.18976974e+01,\n",
              "        4.12431221e+01,  4.08326263e+01,  4.05900421e+01,  3.99223061e+01,\n",
              "        3.97514267e+01,  3.94725685e+01,  3.92384186e+01,  3.89073448e+01,\n",
              "        3.82482681e+01,  3.80101929e+01,  3.75259666e+01,  3.72848663e+01,\n",
              "        3.72582703e+01,  3.66584625e+01,  3.62650528e+01,  3.59587479e+01,\n",
              "        3.55353928e+01,  3.53749695e+01,  3.52514267e+01,  3.51128502e+01,\n",
              "        3.46859741e+01,  3.44949265e+01,  3.38317986e+01,  3.33279610e+01,\n",
              "        3.31252098e+01,  3.25330849e+01,  3.20290833e+01,  3.18379974e+01,\n",
              "        3.16734295e+01,  3.13786678e+01,  3.09509697e+01,  3.08570881e+01,\n",
              "        3.02061462e+01,  3.00987988e+01,  2.97090187e+01,  2.92138443e+01,\n",
              "        2.85773468e+01,  2.80923615e+01,  2.80431442e+01,  2.76856689e+01,\n",
              "        2.75348721e+01,  2.74893532e+01,  2.70388126e+01,  2.68860683e+01,\n",
              "        2.64265289e+01,  2.63363991e+01,  2.59993744e+01,  2.59554729e+01,\n",
              "        2.50793114e+01,  2.49031963e+01,  2.45200081e+01,  2.41735458e+01,\n",
              "        2.37719669e+01,  2.36569729e+01,  2.32842140e+01,  2.27720776e+01,\n",
              "        2.27131424e+01,  2.26680431e+01,  2.25073719e+01,  2.17753124e+01,\n",
              "        2.14582596e+01,  2.09421234e+01,  2.07239609e+01,  2.03189411e+01,\n",
              "        2.02411423e+01,  2.00943050e+01,  1.99009609e+01,  1.95366364e+01,\n",
              "        1.93829746e+01,  1.91195869e+01,  1.87990437e+01,  1.86134090e+01,\n",
              "        1.83824673e+01,  1.82639580e+01,  1.79615993e+01,  1.76510086e+01,\n",
              "        1.75911922e+01,  1.73592663e+01,  1.71655712e+01,  1.69542370e+01,\n",
              "        1.68267765e+01,  1.66078892e+01,  1.65224895e+01,  1.61295013e+01,\n",
              "        1.58838024e+01,  1.57375565e+01,  1.56832829e+01,  1.54667387e+01,\n",
              "        1.51704950e+01,  1.50447016e+01,  1.47975359e+01,  1.46465569e+01,\n",
              "        1.43985167e+01,  1.41506214e+01,  1.39026670e+01,  1.36144104e+01,\n",
              "        1.33042545e+01,  1.32558451e+01,  1.29840555e+01,  1.28113260e+01,\n",
              "        1.25931625e+01,  1.24254684e+01,  1.22302837e+01,  1.20046177e+01,\n",
              "        1.19182978e+01,  1.17931347e+01,  1.14782896e+01,  1.12922525e+01,\n",
              "        1.11199770e+01,  1.09724989e+01,  1.07732449e+01,  1.07397594e+01,\n",
              "        1.04321375e+01,  1.02268581e+01,  1.01098471e+01,  9.94854355e+00,\n",
              "        9.74744415e+00,  9.60198402e+00,  9.53714180e+00,  9.39724541e+00,\n",
              "        9.37631130e+00,  9.19482613e+00,  9.11936378e+00,  9.02133369e+00,\n",
              "        8.87244987e+00,  8.71776009e+00,  8.68519211e+00,  8.21334839e+00,\n",
              "        8.09523678e+00,  8.07018089e+00,  7.79501820e+00,  7.64982748e+00,\n",
              "        7.55691147e+00,  7.26545525e+00,  7.15459585e+00,  7.13402510e+00,\n",
              "        7.08487225e+00,  6.95464993e+00,  6.89199734e+00,  6.76834488e+00,\n",
              "        6.70476437e+00,  6.55685854e+00,  6.52345228e+00,  6.41260672e+00,\n",
              "        6.40753460e+00,  6.30823755e+00,  6.21203613e+00,  6.11645651e+00,\n",
              "        5.90587330e+00,  5.77157116e+00,  5.72222376e+00,  5.63399744e+00,\n",
              "        5.60443068e+00,  5.45055342e+00,  5.21356821e+00,  5.20665407e+00,\n",
              "        5.06705284e+00,  5.00899744e+00,  4.96749306e+00,  4.90269423e+00,\n",
              "        4.84353304e+00,  4.74434328e+00,  4.64101744e+00,  4.48722744e+00,\n",
              "        4.27742004e+00,  4.23386717e+00,  4.10271406e+00,  4.00358534e+00,\n",
              "        4.00034332e+00,  3.85061121e+00,  3.72451806e+00,  3.63756514e+00,\n",
              "        3.58000135e+00,  3.53762436e+00,  3.30361676e+00,  3.27701879e+00,\n",
              "        3.19809079e+00,  3.18120193e+00,  3.06126499e+00,  3.02054262e+00,\n",
              "        2.93508291e+00,  2.81078386e+00,  2.71217155e+00,  2.66297626e+00,\n",
              "        2.65825963e+00,  2.59874701e+00,  2.49650383e+00,  2.44032145e+00,\n",
              "        2.42369866e+00,  2.30618954e+00,  2.27520323e+00,  2.24693561e+00,\n",
              "        2.22595716e+00,  2.20683432e+00,  2.13782024e+00,  2.09102011e+00,\n",
              "        2.04285145e+00,  1.98091733e+00,  1.91559720e+00,  1.83571577e+00,\n",
              "        1.82183766e+00,  1.75099218e+00,  1.70926476e+00,  1.70491266e+00,\n",
              "        1.67244589e+00,  1.61369383e+00,  1.54964554e+00,  1.49177682e+00,\n",
              "        1.44721031e+00,  1.36617315e+00,  1.34785903e+00,  1.25787544e+00,\n",
              "        1.24088740e+00,  1.22457254e+00,  1.16392970e+00,  1.15858161e+00,\n",
              "        1.15515375e+00,  1.14207697e+00,  1.13202035e+00,  1.12806165e+00,\n",
              "        1.11684358e+00,  1.10909021e+00,  1.07495332e+00,  1.04612935e+00,\n",
              "        9.99213994e-01,  9.94603217e-01,  9.46359336e-01,  9.33382750e-01,\n",
              "        9.13791835e-01,  8.40585768e-01,  8.23199809e-01,  8.12106669e-01,\n",
              "        7.14277267e-01,  6.89682722e-01,  6.71095312e-01,  6.67437375e-01,\n",
              "        6.61431313e-01,  6.41640306e-01,  6.34992898e-01,  6.34070277e-01,\n",
              "        6.12104952e-01,  5.81752717e-01,  5.50414383e-01,  5.12115836e-01,\n",
              "        5.07642269e-01,  4.97480094e-01,  4.88603950e-01,  4.61323678e-01,\n",
              "        4.44228232e-01,  4.15852755e-01,  4.08687949e-01,  3.90841722e-01,\n",
              "        3.78164828e-01,  3.73922229e-01,  3.54736984e-01,  3.50010365e-01,\n",
              "        3.14058870e-01,  2.99666882e-01,  2.84580529e-01,  2.53320396e-01,\n",
              "        2.41189301e-01,  2.39025384e-01,  2.32328624e-01,  2.30066851e-01,\n",
              "        2.21891880e-01,  2.05864534e-01,  1.99969336e-01,  1.77925944e-01,\n",
              "        1.74986586e-01,  1.51117086e-01,  1.16090983e-01,  9.97479185e-02,\n",
              "        9.13178176e-02,  8.04253519e-02,  7.90454745e-02,  7.51065239e-02,\n",
              "        6.87224865e-02,  6.43415004e-02,  5.49783930e-02,  5.41066006e-02,\n",
              "        5.32121547e-02,  5.25376648e-02,  5.08311130e-02,  3.97473015e-02,\n",
              "        3.90483290e-02,  3.87789048e-02,  3.15311328e-02,  3.13872658e-02,\n",
              "        2.80211456e-02,  2.45276634e-02,  2.37130597e-02,  1.95272379e-02,\n",
              "        1.90372504e-02,  1.53886704e-02,  1.29149817e-02,  1.27582587e-02,\n",
              "        8.43447819e-03,  7.01498101e-03,  5.27393864e-03,  2.93680257e-03,\n",
              "        1.83428614e-03,  8.15272157e-04,  6.67184708e-04,  4.12417430e-04,\n",
              "        3.53634940e-04,  3.05412745e-04,  5.12470670e-08,  1.64037690e-08,\n",
              "        1.49237138e-08,  9.87467086e-09,  4.50172166e-09,  1.55054025e-09,\n",
              "        9.30678479e-10,  0.00000000e+00,  0.00000000e+00,  0.00000000e+00,\n",
              "        0.00000000e+00,  0.00000000e+00,  0.00000000e+00,  0.00000000e+00,\n",
              "        0.00000000e+00,  0.00000000e+00,  0.00000000e+00,  0.00000000e+00,\n",
              "        0.00000000e+00,  0.00000000e+00,  0.00000000e+00,  0.00000000e+00,\n",
              "        0.00000000e+00,  0.00000000e+00,  0.00000000e+00,  0.00000000e+00,\n",
              "        0.00000000e+00,  0.00000000e+00,  0.00000000e+00,  0.00000000e+00,\n",
              "        0.00000000e+00,  0.00000000e+00,  0.00000000e+00,  0.00000000e+00,\n",
              "        0.00000000e+00,  0.00000000e+00,  0.00000000e+00,  0.00000000e+00,\n",
              "        0.00000000e+00,  0.00000000e+00,  0.00000000e+00,  0.00000000e+00,\n",
              "        0.00000000e+00,  0.00000000e+00,  0.00000000e+00,  0.00000000e+00,\n",
              "        0.00000000e+00,  0.00000000e+00,  0.00000000e+00,  0.00000000e+00,\n",
              "        0.00000000e+00,  0.00000000e+00,  0.00000000e+00,  0.00000000e+00,\n",
              "        0.00000000e+00,  0.00000000e+00,  0.00000000e+00,  0.00000000e+00,\n",
              "        0.00000000e+00,  0.00000000e+00,  0.00000000e+00,  0.00000000e+00,\n",
              "        0.00000000e+00,  0.00000000e+00,  0.00000000e+00,  0.00000000e+00,\n",
              "        0.00000000e+00,  0.00000000e+00,  0.00000000e+00,  0.00000000e+00,\n",
              "        0.00000000e+00,  0.00000000e+00,  0.00000000e+00,  0.00000000e+00,\n",
              "        0.00000000e+00,  0.00000000e+00,  0.00000000e+00,  0.00000000e+00,\n",
              "        0.00000000e+00,  0.00000000e+00,  0.00000000e+00,  0.00000000e+00,\n",
              "        0.00000000e+00,  0.00000000e+00,  0.00000000e+00,  0.00000000e+00,\n",
              "        0.00000000e+00,  0.00000000e+00,  0.00000000e+00,  0.00000000e+00,\n",
              "        0.00000000e+00,  0.00000000e+00,  0.00000000e+00,  0.00000000e+00,\n",
              "        0.00000000e+00,  0.00000000e+00,  0.00000000e+00,  0.00000000e+00,\n",
              "        0.00000000e+00,  0.00000000e+00,  0.00000000e+00,  0.00000000e+00,\n",
              "        0.00000000e+00,  0.00000000e+00,  0.00000000e+00,  0.00000000e+00,\n",
              "       -2.12923155e-08, -5.29213118e-08, -1.94321245e-07, -4.76527674e-07],\n",
              "      dtype=float32)"
            ]
          },
          "metadata": {
            "tags": []
          },
          "execution_count": 40
        }
      ]
    },
    {
      "cell_type": "code",
      "metadata": {
        "id": "mPMRLIJjd33x"
      },
      "source": [
        "sum = 0\n",
        "count = 0\n",
        "for i, val in enumerate(eig_vals[eigen_values_sorted]):\n",
        "  sum += val\n",
        "  if (sum / np.sum(eig_vals)) >= 0.9:\n",
        "    count = i\n",
        "    break"
      ],
      "execution_count": null,
      "outputs": []
    },
    {
      "cell_type": "code",
      "metadata": {
        "colab": {
          "base_uri": "https://localhost:8080/"
        },
        "id": "CavZsXcmeh_D",
        "outputId": "cd44bcd6-95b7-47ea-eea9-8dc9f87ded50"
      },
      "source": [
        "count"
      ],
      "execution_count": null,
      "outputs": [
        {
          "output_type": "execute_result",
          "data": {
            "text/plain": [
              "86"
            ]
          },
          "metadata": {
            "tags": []
          },
          "execution_count": 42
        }
      ]
    },
    {
      "cell_type": "code",
      "metadata": {
        "colab": {
          "base_uri": "https://localhost:8080/"
        },
        "id": "5gap8bnjfZpL",
        "outputId": "e4c6adbf-8c78-4bc0-eb8d-6ed32701935e"
      },
      "source": [
        "X_pca = (X - mean.T) @ eig_vecs[:, eigen_values_sorted[:86]]\n",
        "X_pca.shape"
      ],
      "execution_count": null,
      "outputs": [
        {
          "output_type": "execute_result",
          "data": {
            "text/plain": [
              "(10000, 86)"
            ]
          },
          "metadata": {
            "tags": []
          },
          "execution_count": 43
        }
      ]
    },
    {
      "cell_type": "code",
      "metadata": {
        "colab": {
          "base_uri": "https://localhost:8080/"
        },
        "id": "uyVd_8PRhwil",
        "outputId": "68c1f54b-7cad-4951-882d-3a3101fdd206"
      },
      "source": [
        "X_recover = mean.T + X_pca @ eig_vecs[:, eigen_values_sorted[:86]].T\n",
        "X_recover.shape"
      ],
      "execution_count": null,
      "outputs": [
        {
          "output_type": "execute_result",
          "data": {
            "text/plain": [
              "(10000, 784)"
            ]
          },
          "metadata": {
            "tags": []
          },
          "execution_count": 46
        }
      ]
    },
    {
      "cell_type": "code",
      "metadata": {
        "colab": {
          "base_uri": "https://localhost:8080/",
          "height": 283
        },
        "id": "mnxTRlm3iRBT",
        "outputId": "5e753c65-f097-45d1-e9cb-aa5f3fcd33a8"
      },
      "source": [
        "plt.imshow(X_recover[0].reshape(28, 28))"
      ],
      "execution_count": null,
      "outputs": [
        {
          "output_type": "execute_result",
          "data": {
            "text/plain": [
              "<matplotlib.image.AxesImage at 0x7fa7035d78d0>"
            ]
          },
          "metadata": {
            "tags": []
          },
          "execution_count": 47
        },
        {
          "output_type": "display_data",
          "data": {
            "image/png": "[encoded data removed]",
            "text/plain": [
              "<Figure size 432x288 with 1 Axes>"
            ]
          },
          "metadata": {
            "tags": [],
            "needs_background": "light"
          }
        }
      ]
    },
    {
      "cell_type": "markdown",
      "metadata": {
        "id": "A4MbqktDivql"
      },
      "source": [
        "# SVD"
      ]
    },
    {
      "cell_type": "code",
      "metadata": {
        "colab": {
          "base_uri": "https://localhost:8080/"
        },
        "id": "q-Iw1EIViw8u",
        "outputId": "a1c93983-ad17-4cf9-f1e1-e7fa2d51bfb3"
      },
      "source": [
        "Z = X - mean.T\n",
        "Z.shape"
      ],
      "execution_count": null,
      "outputs": [
        {
          "output_type": "execute_result",
          "data": {
            "text/plain": [
              "(10000, 784)"
            ]
          },
          "metadata": {
            "tags": []
          },
          "execution_count": 48
        }
      ]
    },
    {
      "cell_type": "code",
      "metadata": {
        "id": "7TGUyq2Ai57b"
      },
      "source": [
        "u, s, vT = np.linalg.svd(Z)"
      ],
      "execution_count": null,
      "outputs": []
    },
    {
      "cell_type": "code",
      "metadata": {
        "colab": {
          "base_uri": "https://localhost:8080/"
        },
        "id": "e7u_DXbmjJsc",
        "outputId": "d5424248-26be-4a6f-c7b0-ed696ffa7d42"
      },
      "source": [
        "v = vT.T\n",
        "v.shape"
      ],
      "execution_count": null,
      "outputs": [
        {
          "output_type": "execute_result",
          "data": {
            "text/plain": [
              "(784, 784)"
            ]
          },
          "metadata": {
            "tags": []
          },
          "execution_count": 58
        }
      ]
    },
    {
      "cell_type": "code",
      "metadata": {
        "colab": {
          "base_uri": "https://localhost:8080/"
        },
        "id": "FYAsu33vjoda",
        "outputId": "a700091b-4c2a-471e-f8ee-dbb400035f0d"
      },
      "source": [
        "s.shape"
      ],
      "execution_count": null,
      "outputs": [
        {
          "output_type": "execute_result",
          "data": {
            "text/plain": [
              "(784,)"
            ]
          },
          "metadata": {
            "tags": []
          },
          "execution_count": 59
        }
      ]
    },
    {
      "cell_type": "code",
      "metadata": {
        "id": "BCAN7XU7l_wC"
      },
      "source": [
        "sum = 0\n",
        "count = 0\n",
        "for i, val in enumerate(s):\n",
        "  sum += val\n",
        "  if (sum / np.sum(s)) >= 0.9:\n",
        "    count = i\n",
        "    break"
      ],
      "execution_count": null,
      "outputs": []
    },
    {
      "cell_type": "code",
      "metadata": {
        "colab": {
          "base_uri": "https://localhost:8080/"
        },
        "id": "4L6BxDlPmD9b",
        "outputId": "e657f19e-f496-42da-ab35-38329448f0c9"
      },
      "source": [
        "X_svd = Z @ v[:,:365]\n",
        "X_svd.shape"
      ],
      "execution_count": null,
      "outputs": [
        {
          "output_type": "execute_result",
          "data": {
            "text/plain": [
              "(10000, 365)"
            ]
          },
          "metadata": {
            "tags": []
          },
          "execution_count": 69
        }
      ]
    },
    {
      "cell_type": "code",
      "metadata": {
        "colab": {
          "base_uri": "https://localhost:8080/"
        },
        "id": "yMXlclVinHE0",
        "outputId": "b214024c-e668-4769-dc93-2274d2fcdc26"
      },
      "source": [
        "X_recover_svd = mean.T + X_svd @ v[:, :365].T\n",
        "X_recover_svd.shape"
      ],
      "execution_count": null,
      "outputs": [
        {
          "output_type": "execute_result",
          "data": {
            "text/plain": [
              "(10000, 784)"
            ]
          },
          "metadata": {
            "tags": []
          },
          "execution_count": 70
        }
      ]
    },
    {
      "cell_type": "code",
      "metadata": {
        "colab": {
          "base_uri": "https://localhost:8080/",
          "height": 283
        },
        "id": "zeJHdDvpnRx5",
        "outputId": "a9283ffc-b325-44e0-b67e-3bfe617e34b8"
      },
      "source": [
        "plt.imshow(X_recover_svd[0].reshape(28, 28))"
      ],
      "execution_count": null,
      "outputs": [
        {
          "output_type": "execute_result",
          "data": {
            "text/plain": [
              "<matplotlib.image.AxesImage at 0x7fa7034dc438>"
            ]
          },
          "metadata": {
            "tags": []
          },
          "execution_count": 71
        },
        {
          "output_type": "display_data",
          "data": {
            "image/png": "[encoded data removed]",
            "text/plain": [
              "<Figure size 432x288 with 1 Axes>"
            ]
          },
          "metadata": {
            "tags": [],
            "needs_background": "light"
          }
        }
      ]
    }
  ]
}
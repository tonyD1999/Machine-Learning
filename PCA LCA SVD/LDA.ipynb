{
  "nbformat": 4,
  "nbformat_minor": 0,
  "metadata": {
    "colab": {
      "name": "LDA.ipynb",
      "provenance": []
    },
    "kernelspec": {
      "name": "python3",
      "display_name": "Python 3"
    }
  },
  "cells": [
    {
      "cell_type": "code",
      "metadata": {
        "id": "RVdzKZmB6uj6",
        "colab": {
          "base_uri": "https://localhost:8080/"
        },
        "outputId": "e29c3390-8a44-4276-9732-a240529f3ab6"
      },
      "source": [
        "!git clone https://github.com/AjinkyaGhadge/PCA-from-scratch-in-Python.git"
      ],
      "execution_count": null,
      "outputs": [
        {
          "output_type": "stream",
          "text": [
            "Cloning into 'PCA-from-scratch-in-Python'...\n",
            "remote: Enumerating objects: 22, done.\u001b[K\n",
            "remote: Counting objects: 100% (22/22), done.\u001b[K\n",
            "remote: Compressing objects: 100% (18/18), done.\u001b[K\n",
            "remote: Total 22 (delta 2), reused 19 (delta 2), pack-reused 0\u001b[K\n",
            "Unpacking objects: 100% (22/22), done.\n"
          ],
          "name": "stdout"
        }
      ]
    },
    {
      "cell_type": "code",
      "metadata": {
        "id": "u0s_BqiW8-Ij"
      },
      "source": [
        "import numpy as np\n",
        "import matplotlib.pyplot as plt"
      ],
      "execution_count": null,
      "outputs": []
    },
    {
      "cell_type": "code",
      "metadata": {
        "id": "QrksFfqh9CfN"
      },
      "source": [
        "X = np.load('X_train.npy')\n",
        "y = np.load('y_train.npy')"
      ],
      "execution_count": null,
      "outputs": []
    },
    {
      "cell_type": "code",
      "metadata": {
        "colab": {
          "base_uri": "https://localhost:8080/"
        },
        "id": "opqzFG_l9IYs",
        "outputId": "a4e3a7cf-2c6f-4f4e-b0af-ac2d82225b7d"
      },
      "source": [
        "X.shape, y.shape"
      ],
      "execution_count": null,
      "outputs": [
        {
          "output_type": "execute_result",
          "data": {
            "text/plain": [
              "((10000, 784), (10000,))"
            ]
          },
          "metadata": {
            "tags": []
          },
          "execution_count": 19
        }
      ]
    },
    {
      "cell_type": "code",
      "metadata": {
        "id": "_th78AzD9NEt"
      },
      "source": [
        "mean_tot = np.mean(X, axis=0).reshape(-1, 1)"
      ],
      "execution_count": null,
      "outputs": []
    },
    {
      "cell_type": "code",
      "metadata": {
        "colab": {
          "base_uri": "https://localhost:8080/"
        },
        "id": "WIoxFeUV_RDm",
        "outputId": "c45decc9-559d-4138-bcec-1af477984705"
      },
      "source": [
        "mean_tot.shape"
      ],
      "execution_count": null,
      "outputs": [
        {
          "output_type": "execute_result",
          "data": {
            "text/plain": [
              "(784, 1)"
            ]
          },
          "metadata": {
            "tags": []
          },
          "execution_count": 32
        }
      ]
    },
    {
      "cell_type": "code",
      "metadata": {
        "colab": {
          "base_uri": "https://localhost:8080/"
        },
        "id": "ye-BrVio9XwH",
        "outputId": "a67509ec-2e35-4db9-a2b1-67d32ec61314"
      },
      "source": [
        "D = X.shape[1]\n",
        "D"
      ],
      "execution_count": null,
      "outputs": [
        {
          "output_type": "execute_result",
          "data": {
            "text/plain": [
              "784"
            ]
          },
          "metadata": {
            "tags": []
          },
          "execution_count": 33
        }
      ]
    },
    {
      "cell_type": "code",
      "metadata": {
        "id": "0HoqzFdo9hvh"
      },
      "source": [
        "SW = np.zeros((D, D))\n",
        "SB = np.zeros((D, D))"
      ],
      "execution_count": null,
      "outputs": []
    },
    {
      "cell_type": "code",
      "metadata": {
        "colab": {
          "base_uri": "https://localhost:8080/"
        },
        "id": "7Nma3kJW9lIw",
        "outputId": "70b01ee9-46b3-48ec-a3b0-5e17eefa3121"
      },
      "source": [
        "C = np.unique(y)\n",
        "C.shape"
      ],
      "execution_count": null,
      "outputs": [
        {
          "output_type": "execute_result",
          "data": {
            "text/plain": [
              "(10,)"
            ]
          },
          "metadata": {
            "tags": []
          },
          "execution_count": 35
        }
      ]
    },
    {
      "cell_type": "code",
      "metadata": {
        "id": "ShY1w2YI9x2B"
      },
      "source": [
        "for c in C:\n",
        "  X_c = X[y == c]\n",
        "  # print(X_c.shape)\n",
        "  mean_c = np.mean(X_c, axis=0).reshape(-1, 1)\n",
        "  SW += (X_c - mean_c.T).T @ (X_c - mean_c.T)\n",
        "  n_c = X_c.shape[0]\n",
        "  SB += n_c * (mean_c - mean_tot) @ (mean_c - mean_tot).T"
      ],
      "execution_count": null,
      "outputs": []
    },
    {
      "cell_type": "code",
      "metadata": {
        "colab": {
          "base_uri": "https://localhost:8080/"
        },
        "id": "wUUEidrK_M-O",
        "outputId": "cfd70b39-65d6-48b2-c2e5-5c89e67c5316"
      },
      "source": [
        "A = np.linalg.pinv(SW) @ SB\n",
        "A.shape"
      ],
      "execution_count": null,
      "outputs": [
        {
          "output_type": "execute_result",
          "data": {
            "text/plain": [
              "(784, 784)"
            ]
          },
          "metadata": {
            "tags": []
          },
          "execution_count": 41
        }
      ]
    },
    {
      "cell_type": "code",
      "metadata": {
        "id": "nBUSrBqlB7Vd"
      },
      "source": [
        "u, s, vT = np.linalg.svd(A)"
      ],
      "execution_count": null,
      "outputs": []
    },
    {
      "cell_type": "code",
      "metadata": {
        "id": "GLYPfR7OC4nU"
      },
      "source": [
        "v = vT.T"
      ],
      "execution_count": null,
      "outputs": []
    },
    {
      "cell_type": "code",
      "metadata": {
        "colab": {
          "base_uri": "https://localhost:8080/"
        },
        "id": "HK23mhDuCe6I",
        "outputId": "9204d459-98c5-4477-a358-b91f83c3d0da"
      },
      "source": [
        "Z = X - mean_tot.T\n",
        "Z.shape"
      ],
      "execution_count": null,
      "outputs": [
        {
          "output_type": "execute_result",
          "data": {
            "text/plain": [
              "(10000, 784)"
            ]
          },
          "metadata": {
            "tags": []
          },
          "execution_count": 43
        }
      ]
    },
    {
      "cell_type": "code",
      "metadata": {
        "colab": {
          "base_uri": "https://localhost:8080/"
        },
        "id": "9WCLd5dGCxQQ",
        "outputId": "a9c8dc79-3810-4224-ace4-f332c6330f54"
      },
      "source": [
        "X_svd = Z @ v[:,:30]\n",
        "X_svd.shape"
      ],
      "execution_count": null,
      "outputs": [
        {
          "output_type": "execute_result",
          "data": {
            "text/plain": [
              "(10000, 30)"
            ]
          },
          "metadata": {
            "tags": []
          },
          "execution_count": 57
        }
      ]
    },
    {
      "cell_type": "code",
      "metadata": {
        "id": "IjKHKfxWDDSZ"
      },
      "source": [
        ""
      ],
      "execution_count": null,
      "outputs": []
    }
  ]
}